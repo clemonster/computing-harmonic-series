{
 "cells": [
  {
   "cell_type": "markdown",
   "metadata": {},
   "source": [
    "# Exercise\n",
    "\n",
    "The begining of the text is mostly present, as seen during the course, as a reminder of the context of the exercise. The «real» exercise starts at the section entitled _Debugging_."
   ]
  },
  {
   "cell_type": "markdown",
   "metadata": {},
   "source": [
    "# Computing the sum $H_n=\\sum_{i=1}^n \\frac{1}{n}$\n",
    "\n",
    "We will try to use Python to compute the sum : $H_n=\\sum_{i=1}^n \\frac{1}{n}$ with the best possible precision, knowing that the real number format used in python (like most language) is of finite precision.\n",
    "\n",
    "## Aim\n",
    "The final aim of this exercise is to have a bit better _intuitive understanding_ of the effects of finite precision real numbers on computational intensive tasks, and how useful it may be to perform a computation through a _smart_ scheme rather than using a _naive_ approach.\n",
    "\n",
    "## Precision\n",
    "To be able to test the effect of precision, we will be using the `numpy` which provides the three precision levels that we will be using : `float16`, `float32`, `float64`. And we will be performing the computations using these three levels of precision"
   ]
  },
  {
   "cell_type": "code",
   "execution_count": 1,
   "metadata": {},
   "outputs": [
    {
     "name": "stdout",
     "output_type": "stream",
     "text": [
      "n=100000 : H64=12.090, H32=12.091, H16= 7.086\n"
     ]
    }
   ],
   "source": [
    "## Performing the summation up to :\n",
    "n = 100000\n",
    "\n",
    "## Implementing the summation in the «naive» way\n",
    "import math\n",
    "import numpy\n",
    "\n",
    "## short hands for explicit type conversion functions :\n",
    "f16 = numpy.float16\n",
    "f32 = numpy.float32\n",
    "f64 = numpy.float64\n",
    "\n",
    "H16 = f16(0)\n",
    "H32 = f32(0)\n",
    "H64 = f64(0)\n",
    "\n",
    "for i in range(1, n+1) :\n",
    "    H16 = numpy.add(H16, f16(1/i))\n",
    "    H32 = numpy.add(H32, f32(1/i))\n",
    "    H64 = numpy.add(H64, f64(1/i))\n",
    "\n",
    "print(\"n=%d : H64=%6.3f, H32=%6.3f, H16=%6.3f\" % (n, H64, H32, H16))"
   ]
  },
  {
   "cell_type": "markdown",
   "metadata": {},
   "source": [
    "## Computing some bounds to $H_n=\\sum_{i=1}^n \\frac{1}{n}$\n",
    "\n",
    "Using the rectangle summation method to compute $\\int_{x=1}^n \\frac{1}{x} dx = \\ln(x)$, and since $\\frac{1}{x}$ is a monotonous function one can check that we have lower and upper bounds :\n",
    "\n",
    "$$H_n - 1 < \\ln(n) < H_n - \\frac{1}{n}$$\n",
    "\n",
    "From this we conclude that :\n",
    "\n",
    "$$ \\ln(n) + \\frac{1}{n} < H_n < \\ln(n) + 1 $$\n",
    "\n",
    "To go even further in term of bounding of $H_n$ one can consider the [Trapezoidal rule](https://en.wikipedia.org/wiki/Trapezoidal_rule). Since the $\\frac{1}{x}$ is convex, the trapezoidal rule gives a upper bound, which is closer to the integral compared to the approximation given by the rectangle method.\n",
    "\n",
    "The trapezoidal rule gives the bound :\n",
    "\n",
    "$$ \\ln(n) < \\frac{1}{2}( H_n - 1 + H_n - \\frac{1}{n} ) = H_n - \\frac{1}{2} - \\frac{1}{2n}$$\n",
    "\n",
    "Which gives us a lower bound on $H_n$ : \n",
    "\n",
    "$$ \\ln(n) + \\frac{1}{2} + \\frac{1}{2n} < H_n $$\n",
    "\n",
    "Leading to a closer interval, with the summation closer to its lower bound:\n",
    "\n",
    "$$ \\ln(n) + \\frac{1}{2} + \\frac{1}{2n} < H_n < \\ln(n) + 1 $$"
   ]
  },
  {
   "cell_type": "code",
   "execution_count": 2,
   "metadata": {},
   "outputs": [
    {
     "name": "stdout",
     "output_type": "stream",
     "text": [
      "n=100000 : 11.513 <= H64=12.090, H32=12.091, H16= 7.086 <= 12.513\n",
      "n=100000 : 12.013 <= H64=12.090, H32=12.091, H16= 7.086 <= 12.513\n"
     ]
    }
   ],
   "source": [
    "## Performing the summation up to :\n",
    "n = 100000 ## Then test with n = 1000000\n",
    "\n",
    "## Implementing the summation in the «naive» way\n",
    "import math\n",
    "import numpy\n",
    "\n",
    "f16 = numpy.float16\n",
    "f32 = numpy.float32\n",
    "f64 = numpy.float64\n",
    "\n",
    "H16 = f16(0)\n",
    "H32 = f32(0)\n",
    "H64 = f64(0)\n",
    "\n",
    "for i in range(1, n+1, 1) :\n",
    "    H16 = numpy.add(H16, f16(1/i))\n",
    "    H32 = numpy.add(H32, f32(1/i))\n",
    "    H64 = numpy.add(H64, f64(1/i))\n",
    "\n",
    "print(\"n=%d : %6.3f <= H64=%6.3f, H32=%6.3f, H16=%6.3f <= %6.3f\" % (n, math.log(n)+1/n, H64, H32, H16, math.log(n)+1))\n",
    "\n",
    "## Using «better» bounds :\n",
    "print(\"n=%d : %6.3f <= H64=%6.3f, H32=%6.3f, H16=%6.3f <= %6.3f\" % (n, math.log(n)+.5+.5/n, H64, H32, H16, math.log(n)+1))"
   ]
  },
  {
   "cell_type": "markdown",
   "metadata": {},
   "source": [
    "## First trial of getting more precise answer\n",
    "\n",
    "A classical way to get a bit better results when summing numbers is to perform the summation from the last items (or to be more precise starting from the ones with smaller absolute values)."
   ]
  },
  {
   "cell_type": "code",
   "execution_count": 3,
   "metadata": {},
   "outputs": [
    {
     "name": "stdout",
     "output_type": "stream",
     "text": [
      "n=100000 : 12.013 <= H64=12.090, H32=12.090, H16= 9.797 <= 12.513\n"
     ]
    }
   ],
   "source": [
    "## Performing the summation up to :\n",
    "n = 100000 ## Then test with n = 1000000\n",
    "\n",
    "## Implementing the summation in the «naive» way\n",
    "import math\n",
    "import numpy\n",
    "\n",
    "f16 = numpy.float16\n",
    "f32 = numpy.float32\n",
    "f64 = numpy.float64\n",
    "\n",
    "H16 = f16(0)\n",
    "H32 = f32(0)\n",
    "H64 = f64(0)\n",
    "\n",
    "for i in range(n, 0, -1) :\n",
    "    H16 = numpy.add(H16, f16(1/i))\n",
    "    H32 = numpy.add(H32, f32(1/i))\n",
    "    H64 = numpy.add(H64, f64(1/i))\n",
    "\n",
    "print(\"n=%d : %6.3f <= H64=%6.3f, H32=%6.3f, H16=%6.3f <= %6.3f\" % (n, math.log(n)+.5+.5/n, H64, H32, H16, math.log(n)+1))"
   ]
  },
  {
   "cell_type": "markdown",
   "metadata": {},
   "source": [
    "The summation is a bit better for the 16b version, for the other two versions it seems not to make a difference. But we can not make sure what is the error level of the 32b and 64b version : it seems that it is likely smaller than the printed-out version.\n",
    "\n",
    "## Debugging\n",
    "Lets try to understand what is going wrong (at least in the 16b computation). Obviously this has to do with the length of the summation ($n$). To do that lets plot the $H_n$ as a function of $n$ and using the various precisions at hand (16b, 32b, 64b)."
   ]
  },
  {
   "cell_type": "code",
   "execution_count": 4,
   "metadata": {},
   "outputs": [
    {
     "name": "stdout",
     "output_type": "stream",
     "text": [
      "n=500000 : 13.622 < H64=13.700, H32=13.691, H16= 7.086 < 14.122 (in 4.455s)\n",
      "n=500000 : 13.622 < H64=13.700, H32=13.700, H16= 9.797 < 14.122 (in 3.770s)\n"
     ]
    },
    {
     "data": {
      "text/plain": [
       "(13.699578042305527, 13.699605, 9.7969, 3.7705474334489937)"
      ]
     },
     "execution_count": 4,
     "metadata": {},
     "output_type": "execute_result"
    }
   ],
   "source": [
    "import math\n",
    "import numpy\n",
    "import time ## for function timing support\n",
    "\n",
    "def Hn_simple_up(n, quiet=False) :\n",
    "    start_time = time.perf_counter()\n",
    "    f16 = numpy.float16\n",
    "    f32 = numpy.float32\n",
    "    f64 = numpy.float64\n",
    "\n",
    "    H16 = f16(0)\n",
    "    H32 = f32(0)\n",
    "    H64 = f64(0)\n",
    "\n",
    "    for i in range(1, n, 1) :\n",
    "        H16 += f16(1/i)\n",
    "        H32 += f32(1/i)\n",
    "        H64 += f64(1/i)\n",
    "\n",
    "\n",
    "    if not quiet :\n",
    "        print(\"n=%d : %6.3f < H64=%6.3f, H32=%6.3f, H16=%6.3f < %6.3f (in %.3fs)\" %\n",
    "              (n, math.log(n)+.5+.5/n, H64, H32, H16, math.log(n)+1, (time.perf_counter()-start_time)))\n",
    "    return(H64, H32, H16, (time.perf_counter()-start_time))\n",
    "\n",
    "def Hn_simple_down(n, quiet=False) :\n",
    "    start_time = time.perf_counter()\n",
    "    f16 = numpy.float16\n",
    "    f32 = numpy.float32\n",
    "    f64 = numpy.float64\n",
    "\n",
    "    H16 = f16(0)\n",
    "    H32 = f32(0)\n",
    "    H64 = f64(0)\n",
    "\n",
    "    for i in range(n-1, 0, -1) : ### <- here is the place you have to fill in.\n",
    "        H16 += f16(1/i)\n",
    "        H32 += f32(1/i)\n",
    "        H64 += f64(1/i)\n",
    "\n",
    "\n",
    "    if not quiet :\n",
    "        print(\"n=%d : %6.3f < H64=%6.3f, H32=%6.3f, H16=%6.3f < %6.3f (in %.3fs)\" % \n",
    "              (n, math.log(n)+.5+.5/n, H64, H32, H16, math.log(n)+1, (time.perf_counter()-start_time)))\n",
    "    return(H64, H32, H16, (time.perf_counter()-start_time))\n",
    "\n",
    "Hn_simple_up(500000)\n",
    "Hn_simple_down(500000)"
   ]
  },
  {
   "cell_type": "code",
   "execution_count": 5,
   "metadata": {
    "scrolled": false
   },
   "outputs": [
    {
     "name": "stdout",
     "output_type": "stream",
     "text": [
      "n=2 :  1.443 < H64= 1.000, H32= 1.000, H16= 1.000 <  1.693 (in 0.000s)\n",
      "n=4 :  2.011 < H64= 1.833, H32= 1.833, H16= 1.833 <  2.386 (in 0.000s)\n",
      "n=8 :  2.642 < H64= 2.593, H32= 2.593, H16= 2.590 <  3.079 (in 0.000s)\n",
      "n=16 :  3.304 < H64= 3.318, H32= 3.318, H16= 3.316 <  3.773 (in 0.000s)\n",
      "n=32 :  3.981 < H64= 4.027, H32= 4.027, H16= 4.023 <  4.466 (in 0.000s)\n",
      "n=64 :  4.667 < H64= 4.728, H32= 4.728, H16= 4.723 <  5.159 (in 0.001s)\n",
      "n=128 :  5.356 < H64= 5.425, H32= 5.425, H16= 5.414 <  5.852 (in 0.001s)\n",
      "n=256 :  6.047 < H64= 6.120, H32= 6.120, H16= 6.082 <  6.545 (in 0.002s)\n",
      "n=512 :  6.739 < H64= 6.815, H32= 6.815, H16= 7.082 <  7.238 (in 0.004s)\n",
      "n=1024 :  7.432 < H64= 7.508, H32= 7.508, H16= 7.086 <  7.931 (in 0.008s)\n",
      "n=2048 :  8.125 < H64= 8.202, H32= 8.202, H16= 7.086 <  8.625 (in 0.014s)\n",
      "n=4096 :  8.818 < H64= 8.895, H32= 8.895, H16= 7.086 <  9.318 (in 0.028s)\n",
      "n=8192 :  9.511 < H64= 9.588, H32= 9.588, H16= 7.086 < 10.011 (in 0.054s)\n",
      "n=16384 : 10.204 < H64=10.281, H32=10.281, H16= 7.086 < 10.704 (in 0.132s)\n",
      "n=32768 : 10.897 < H64=10.974, H32=10.974, H16= 7.086 < 11.397 (in 0.274s)\n",
      "n=65536 : 11.590 < H64=11.668, H32=11.667, H16= 7.086 < 12.090 (in 0.551s)\n",
      "n=131072 : 12.284 < H64=12.361, H32=12.360, H16= 7.086 < 12.784 (in 0.997s)\n",
      "n=262144 : 12.977 < H64=13.054, H32=13.051, H16= 7.086 < 13.477 (in 2.042s)\n",
      "n=524288 : 13.670 < H64=13.747, H32=13.737, H16= 7.086 < 14.170 (in 4.961s)\n",
      "n=1048576 : 14.363 < H64=14.440, H32=14.404, H16= 7.086 < 14.863 (in 7.996s)\n",
      "n=2097152 : 15.056 < H64=15.133, H32=15.404, H16= 7.086 < 15.556 (in 18.031s)\n",
      "n=4194304 : 15.749 < H64=15.826, H32=15.404, H16= 7.086 < 16.249 (in 35.034s)\n",
      "n=8388608 : 16.442 < H64=16.520, H32=15.404, H16= 7.086 < 16.942 (in 64.995s)\n",
      "n=16777216 : 17.136 < H64=17.213, H32=15.404, H16= 7.086 < 17.636 (in 134.420s)\n",
      "n=33554432 : 17.829 < H64=17.906, H32=15.404, H16= 7.086 < 18.329 (in 263.783s)\n",
      "           n     H64-up     H32-up    H16-up     time-up\n",
      "0          2   1.000000   1.000000  1.000000    0.000545\n",
      "1          4   1.833333   1.833333  1.833008    0.000577\n",
      "2          8   2.592857   2.592857  2.589844    0.000446\n",
      "3         16   3.318229   3.318229  3.316406    0.000498\n",
      "4         32   4.027245   4.027246  4.023438    0.000553\n",
      "5         64   4.728266   4.728267  4.722656    0.000959\n",
      "6        128   5.425335   5.425335  5.414062    0.001482\n",
      "7        256   6.120439   6.120440  6.082031    0.002150\n",
      "8        512   6.814563   6.814564  7.082031    0.004809\n",
      "9       1024   7.508199   7.508206  7.085938    0.008140\n",
      "10      2048   8.201590   8.201593  7.085938    0.013899\n",
      "11      4096   8.894860   8.894864  7.085938    0.028262\n",
      "12      8192   9.588068   9.588074  7.085938    0.054803\n",
      "13     16384  10.281246  10.281245  7.085938    0.132187\n",
      "14     32768  10.974408  10.974379  7.085938    0.274775\n",
      "15     65536  11.667563  11.667413  7.085938    0.551364\n",
      "16    131072  12.360714  12.360078  7.085938    0.997171\n",
      "17    262144  13.053863  13.051300  7.085938    2.042505\n",
      "18    524288  13.747011  13.737016  7.085938    4.961987\n",
      "19   1048576  14.440159  14.403683  7.085938    7.996670\n",
      "20   2097152  15.133306  15.403683  7.085938   18.031605\n",
      "21   4194304  15.826454  15.403683  7.085938   35.034817\n",
      "22   8388608  16.519601  15.403683  7.085938   64.995003\n",
      "23  16777216  17.212748  15.403683  7.085938  134.421463\n",
      "24  33554432  17.905895  15.403683  7.085938  263.783722\n"
     ]
    },
    {
     "data": {
      "text/plain": [
       "<matplotlib.axes._subplots.AxesSubplot at 0x215e417d470>"
      ]
     },
     "execution_count": 5,
     "metadata": {},
     "output_type": "execute_result"
    },
    {
     "data": {
      "image/png": "[encoded data removed]",
      "text/plain": [
       "<matplotlib.figure.Figure at 0x215e4121e10>"
      ]
     },
     "metadata": {},
     "output_type": "display_data"
    }
   ],
   "source": [
    "## Using this function and testing various values of n (n goes from 2**1 to 2**25)\n",
    "## Making a dataframe with the data as we iterate\n",
    "\n",
    "import pandas\n",
    "%matplotlib inline\n",
    "\n",
    "\n",
    "x = numpy.empty(shape=(25,),\n",
    "                dtype=[(\"n\", \"int64\"),\n",
    "                       (\"H64-up\", \"float64\"),\n",
    "                       (\"H32-up\", \"float32\"),\n",
    "                       (\"H16-up\", \"float16\"),\n",
    "                       (\"time-up\", \"float32\")])\n",
    "Hns = pandas.DataFrame(x) ##, columns=[\"n\", \"H64-up\", \"H32-up\", \"H16-up\", \"time-up\"])\n",
    "\n",
    "Hns[\"n\"] = numpy.fromfunction(lambda i : 2**(i+1), shape=x.shape, dtype=\"int64\")\n",
    "\n",
    "for i in Hns.index :\n",
    "##    print(i, \" :\", Hns[\"n\"][i], \"type :\", numpy.dtype(Hns[\"n\"][i]))\n",
    "    (H64, H32, H16, tu) = Hn_simple_up(Hns[\"n\"][i], quiet=False)\n",
    "    Hns.loc[i, [\"H64-up\", \"H32-up\", \"H16-up\", \"time-up\"]] = (H64, H32, H16, tu) \n",
    "    \n",
    "print(Hns)\n",
    "Hns.loc[::, \n",
    "       [\"n\", \"H64-up\", \"H32-up\", \"H16-up\"]\n",
    "       ].plot(\"n\", logx=True)"
   ]
  },
  {
   "cell_type": "code",
   "execution_count": 6,
   "metadata": {},
   "outputs": [
    {
     "name": "stdout",
     "output_type": "stream",
     "text": [
      "n=2 :  1.443 < H64= 1.000, H32= 1.000, H16= 1.000 <  1.693 (in 0.000s)\n",
      "n=4 :  2.011 < H64= 1.833, H32= 1.833, H16= 1.833 <  2.386 (in 0.000s)\n",
      "n=8 :  2.642 < H64= 2.593, H32= 2.593, H16= 2.594 <  3.079 (in 0.000s)\n",
      "n=16 :  3.304 < H64= 3.318, H32= 3.318, H16= 3.318 <  3.773 (in 0.000s)\n",
      "n=32 :  3.981 < H64= 4.027, H32= 4.027, H16= 4.027 <  4.466 (in 0.000s)\n",
      "n=64 :  4.667 < H64= 4.728, H32= 4.728, H16= 4.727 <  5.159 (in 0.001s)\n",
      "n=128 :  5.356 < H64= 5.425, H32= 5.425, H16= 5.430 <  5.852 (in 0.001s)\n",
      "n=256 :  6.047 < H64= 6.120, H32= 6.120, H16= 6.117 <  6.545 (in 0.002s)\n",
      "n=512 :  6.739 < H64= 6.815, H32= 6.815, H16= 6.816 <  7.238 (in 0.004s)\n",
      "n=1024 :  7.432 < H64= 7.508, H32= 7.508, H16= 7.496 <  7.931 (in 0.011s)\n",
      "n=2048 :  8.125 < H64= 8.202, H32= 8.202, H16= 8.219 <  8.625 (in 0.028s)\n",
      "n=4096 :  8.818 < H64= 8.895, H32= 8.895, H16= 8.812 <  9.318 (in 0.047s)\n",
      "n=8192 :  9.511 < H64= 9.588, H32= 9.588, H16= 9.797 < 10.011 (in 0.073s)\n",
      "n=16384 : 10.204 < H64=10.281, H32=10.281, H16= 9.797 < 10.704 (in 0.156s)\n",
      "n=32768 : 10.897 < H64=10.974, H32=10.974, H16= 9.797 < 11.397 (in 0.263s)\n",
      "n=65536 : 11.590 < H64=11.668, H32=11.668, H16= 9.797 < 12.090 (in 0.520s)\n",
      "n=131072 : 12.284 < H64=12.361, H32=12.361, H16= 9.797 < 12.784 (in 0.969s)\n",
      "n=262144 : 12.977 < H64=13.054, H32=13.054, H16= 9.797 < 13.477 (in 1.948s)\n",
      "n=524288 : 13.670 < H64=13.747, H32=13.747, H16= 9.797 < 14.170 (in 3.900s)\n",
      "n=1048576 : 14.363 < H64=14.440, H32=14.440, H16= 9.797 < 14.863 (in 9.066s)\n",
      "n=2097152 : 15.056 < H64=15.133, H32=15.133, H16= 9.797 < 15.556 (in 18.153s)\n",
      "n=4194304 : 15.749 < H64=15.826, H32=15.830, H16= 9.797 < 16.249 (in 31.459s)\n",
      "n=8388608 : 16.442 < H64=16.520, H32=16.514, H16= 9.797 < 16.942 (in 66.328s)\n",
      "n=16777216 : 17.136 < H64=17.213, H32=17.233, H16= 9.797 < 17.636 (in 130.694s)\n",
      "n=33554432 : 17.829 < H64=17.906, H32=17.828, H16= 9.797 < 18.329 (in 906.061s)\n",
      "           n     H64-up     H32-up    H16-up     time-up   H64-down  \\\n",
      "0          2   1.000000   1.000000  1.000000    0.000545   1.000000   \n",
      "1          4   1.833333   1.833333  1.833008    0.000577   1.833333   \n",
      "2          8   2.592857   2.592857  2.589844    0.000446   2.592857   \n",
      "3         16   3.318229   3.318229  3.316406    0.000498   3.318229   \n",
      "4         32   4.027245   4.027246  4.023438    0.000553   4.027245   \n",
      "5         64   4.728266   4.728267  4.722656    0.000959   4.728266   \n",
      "6        128   5.425335   5.425335  5.414062    0.001482   5.425335   \n",
      "7        256   6.120439   6.120440  6.082031    0.002150   6.120439   \n",
      "8        512   6.814563   6.814564  7.082031    0.004809   6.814563   \n",
      "9       1024   7.508199   7.508206  7.085938    0.008140   7.508199   \n",
      "10      2048   8.201590   8.201593  7.085938    0.013899   8.201590   \n",
      "11      4096   8.894860   8.894864  7.085938    0.028262   8.894860   \n",
      "12      8192   9.588068   9.588074  7.085938    0.054803   9.588068   \n",
      "13     16384  10.281246  10.281245  7.085938    0.132187  10.281246   \n",
      "14     32768  10.974408  10.974379  7.085938    0.274775  10.974408   \n",
      "15     65536  11.667563  11.667413  7.085938    0.551364  11.667563   \n",
      "16    131072  12.360714  12.360078  7.085938    0.997171  12.360714   \n",
      "17    262144  13.053863  13.051300  7.085938    2.042505  13.053863   \n",
      "18    524288  13.747011  13.737016  7.085938    4.961987  13.747011   \n",
      "19   1048576  14.440159  14.403683  7.085938    7.996670  14.440159   \n",
      "20   2097152  15.133306  15.403683  7.085938   18.031605  15.133306   \n",
      "21   4194304  15.826454  15.403683  7.085938   35.034817  15.826454   \n",
      "22   8388608  16.519601  15.403683  7.085938   64.995003  16.519601   \n",
      "23  16777216  17.212748  15.403683  7.085938  134.421463  17.212748   \n",
      "24  33554432  17.905895  15.403683  7.085938  263.783722  17.905895   \n",
      "\n",
      "     H32-down  H16-down   time-down  \n",
      "0    1.000000  1.000000    0.000549  \n",
      "1    1.833333  1.833008    0.000587  \n",
      "2    2.592857  2.593750    0.000615  \n",
      "3    3.318229  3.318359    0.000732  \n",
      "4    4.027246  4.027344    0.000721  \n",
      "5    4.728266  4.726562    0.001638  \n",
      "6    5.425334  5.429688    0.001459  \n",
      "7    6.120439  6.117188    0.002295  \n",
      "8    6.814563  6.816406    0.004212  \n",
      "9    7.508200  7.496094    0.016375  \n",
      "10   8.201591  8.218750    0.028184  \n",
      "11   8.894860  8.812500    0.047738  \n",
      "12   9.588066  9.796875    0.073128  \n",
      "13  10.281252  9.796875    0.156292  \n",
      "14  10.974413  9.796875    0.263475  \n",
      "15  11.667573  9.796875    0.520923  \n",
      "16  12.360724  9.796875    0.969734  \n",
      "17  13.053877  9.796875    1.948003  \n",
      "18  13.747054  9.796875    3.900604  \n",
      "19  14.440230  9.796875    9.066767  \n",
      "20  15.132898  9.796875   18.153059  \n",
      "21  15.829606  9.796875   31.459532  \n",
      "22  16.514153  9.796875   66.328598  \n",
      "23  17.232708  9.796875  130.694992  \n",
      "24  17.827648  9.796875  906.060974  \n"
     ]
    },
    {
     "data": {
      "text/plain": [
       "<matplotlib.axes._subplots.AxesSubplot at 0x215e585f1d0>"
      ]
     },
     "execution_count": 6,
     "metadata": {},
     "output_type": "execute_result"
    },
    {
     "data": {
      "image/png": "[encoded data removed]",
      "text/plain": [
       "<matplotlib.figure.Figure at 0x215e58d4c18>"
      ]
     },
     "metadata": {},
     "output_type": "display_data"
    }
   ],
   "source": [
    "x = numpy.empty(shape=(Hns.shape[0],),\n",
    "                dtype=[(\"H64-down\", \"float64\"),\n",
    "                       (\"H32-down\", \"float32\"),\n",
    "                       (\"H16-down\", \"float16\"),\n",
    "                       (\"time-down\", \"float32\")])\n",
    "\n",
    "Hns_new = pandas.DataFrame(x)\n",
    "\n",
    "for i in Hns.index :\n",
    "    Hns_new.loc[i, ::] = Hn_simple_down(Hns[\"n\"][i], quiet=False)\n",
    "\n",
    "Hns = pandas.concat([Hns, Hns_new], axis=1)\n",
    "print(Hns)\n",
    "Hns.loc[::, \n",
    "       [\"n\", \"H64-up\", \"H32-up\", \"H16-up\", \"H64-down\", \"H32-down\", \"H16-down\"]\n",
    "       ].plot(\"n\", logx=True)"
   ]
  },
  {
   "cell_type": "markdown",
   "metadata": {},
   "source": [
    "## Performing the summation in a stepwise method\n",
    "\n",
    "The idea here is to start summing once the addition of the new factor is making no more differences"
   ]
  },
  {
   "cell_type": "code",
   "execution_count": 7,
   "metadata": {},
   "outputs": [
    {
     "name": "stdout",
     "output_type": "stream",
     "text": [
      "n=500000 : 13.622 < H16=14.555 < 14.122 (sum depth 192, in 0.730s)\n"
     ]
    },
    {
     "data": {
      "text/plain": [
       "(14.555, 192, 0.7300445507078166)"
      ]
     },
     "execution_count": 7,
     "metadata": {},
     "output_type": "execute_result"
    }
   ],
   "source": [
    "def Hn_step1_up(n, quiet=False) :\n",
    "    start_time = time.perf_counter()\n",
    "    f16 = numpy.float16\n",
    "\n",
    "    H16 = f16(0)\n",
    "    Hs = []\n",
    "\n",
    "    #### Code comes here to perform the summation in a stepwise manner\n",
    "    #### Using the Hs list as a stack to record intermediate partial sums.\n",
    "    Hs.append(f16(0)) #inititialise the first Hs\n",
    "    current_ind = 0\n",
    "    \n",
    "    for i in range(n-1, 0, -1) : #We sum smallest elements first\n",
    "        if (Hs[current_ind] + f16(1/i) != Hs[current_ind]) : #Check if adding next 1/i makes a difference\n",
    "            Hs[current_ind] += f16(1/i) #If it does, add it to current partial sum\n",
    "        else :\n",
    "            Hs.append(f16(1/i))#If it doesnt, create new partial sum\n",
    "            current_ind += 1\n",
    "    \n",
    "\n",
    "    for H in Hs:\n",
    "        H16 += H\n",
    "\n",
    "    if not quiet :\n",
    "        print(\"n=%d : %6.3f < H16=%6.3f < %6.3f (sum depth %d, in %.3fs)\" % \n",
    "              (n, math.log(n)+.5+.5/n, H16, math.log(n)+1, len(Hs), (time.perf_counter()-start_time)))\n",
    "    return(H16, len(Hs), (time.perf_counter()-start_time))\n",
    "\n",
    "Hn_step1_up(500000)"
   ]
  },
  {
   "cell_type": "markdown",
   "metadata": {},
   "source": [
    "And using a loop to test this function with multiple values of $n$ :"
   ]
  },
  {
   "cell_type": "code",
   "execution_count": 8,
   "metadata": {},
   "outputs": [
    {
     "name": "stdout",
     "output_type": "stream",
     "text": [
      "n=2 :  1.443 < H16= 1.000 <  1.693 (sum depth 1, in 0.000s)\n",
      "n=4 :  2.011 < H16= 1.833 <  2.386 (sum depth 1, in 0.000s)\n",
      "n=8 :  2.642 < H16= 2.594 <  3.079 (sum depth 1, in 0.000s)\n",
      "n=16 :  3.304 < H16= 3.318 <  3.773 (sum depth 1, in 0.000s)\n",
      "n=32 :  3.981 < H16= 4.027 <  4.466 (sum depth 1, in 0.000s)\n",
      "n=64 :  4.667 < H16= 4.727 <  5.159 (sum depth 1, in 0.000s)\n",
      "n=128 :  5.356 < H16= 5.430 <  5.852 (sum depth 1, in 0.000s)\n",
      "n=256 :  6.047 < H16= 6.117 <  6.545 (sum depth 1, in 0.000s)\n",
      "n=512 :  6.739 < H16= 6.816 <  7.238 (sum depth 1, in 0.001s)\n",
      "n=1024 :  7.432 < H16= 7.496 <  7.931 (sum depth 1, in 0.002s)\n",
      "n=2048 :  8.125 < H16= 8.219 <  8.625 (sum depth 1, in 0.009s)\n",
      "n=4096 :  8.818 < H16= 8.812 <  9.318 (sum depth 1, in 0.006s)\n",
      "n=8192 :  9.511 < H16=10.133 < 10.011 (sum depth 2, in 0.012s)\n",
      "n=16384 : 10.204 < H16=11.039 < 10.704 (sum depth 5, in 0.025s)\n",
      "n=32768 : 10.897 < H16=11.328 < 11.397 (sum depth 12, in 0.059s)\n",
      "n=65536 : 11.590 < H16=12.234 < 12.090 (sum depth 24, in 0.113s)\n",
      "n=131072 : 12.284 < H16=13.031 < 12.784 (sum depth 49, in 0.186s)\n",
      "n=262144 : 12.977 < H16=13.828 < 13.477 (sum depth 99, in 0.381s)\n",
      "n=524288 : 13.670 < H16=14.609 < 14.170 (sum depth 201, in 0.763s)\n",
      "n=1048576 : 14.363 < H16=15.398 < 14.863 (sum depth 409, in 1.550s)\n",
      "n=2097152 : 15.056 < H16=16.172 < 15.556 (sum depth 836, in 2.943s)\n",
      "n=4194304 : 15.749 < H16=16.938 < 16.249 (sum depth 1736, in 5.862s)\n",
      "n=8388608 : 16.442 < H16=17.703 < 16.942 (sum depth 3712, in 12.083s)\n",
      "n=16777216 : 17.136 < H16=17.828 < 17.636 (sum depth 7807, in 24.610s)\n",
      "n=33554432 : 17.829 < H16=17.828 < 18.329 (sum depth 15999, in 48.268s)\n",
      "           n     H64-up     H32-up    H16-up     time-up   H64-down  \\\n",
      "0          2   1.000000   1.000000  1.000000    0.000545   1.000000   \n",
      "1          4   1.833333   1.833333  1.833008    0.000577   1.833333   \n",
      "2          8   2.592857   2.592857  2.589844    0.000446   2.592857   \n",
      "3         16   3.318229   3.318229  3.316406    0.000498   3.318229   \n",
      "4         32   4.027245   4.027246  4.023438    0.000553   4.027245   \n",
      "5         64   4.728266   4.728267  4.722656    0.000959   4.728266   \n",
      "6        128   5.425335   5.425335  5.414062    0.001482   5.425335   \n",
      "7        256   6.120439   6.120440  6.082031    0.002150   6.120439   \n",
      "8        512   6.814563   6.814564  7.082031    0.004809   6.814563   \n",
      "9       1024   7.508199   7.508206  7.085938    0.008140   7.508199   \n",
      "10      2048   8.201590   8.201593  7.085938    0.013899   8.201590   \n",
      "11      4096   8.894860   8.894864  7.085938    0.028262   8.894860   \n",
      "12      8192   9.588068   9.588074  7.085938    0.054803   9.588068   \n",
      "13     16384  10.281246  10.281245  7.085938    0.132187  10.281246   \n",
      "14     32768  10.974408  10.974379  7.085938    0.274775  10.974408   \n",
      "15     65536  11.667563  11.667413  7.085938    0.551364  11.667563   \n",
      "16    131072  12.360714  12.360078  7.085938    0.997171  12.360714   \n",
      "17    262144  13.053863  13.051300  7.085938    2.042505  13.053863   \n",
      "18    524288  13.747011  13.737016  7.085938    4.961987  13.747011   \n",
      "19   1048576  14.440159  14.403683  7.085938    7.996670  14.440159   \n",
      "20   2097152  15.133306  15.403683  7.085938   18.031605  15.133306   \n",
      "21   4194304  15.826454  15.403683  7.085938   35.034817  15.826454   \n",
      "22   8388608  16.519601  15.403683  7.085938   64.995003  16.519601   \n",
      "23  16777216  17.212748  15.403683  7.085938  134.421463  17.212748   \n",
      "24  33554432  17.905895  15.403683  7.085938  263.783722  17.905895   \n",
      "\n",
      "     H32-down  H16-down   time-down  H16-step1  step1-sum-depth  time-step1  \n",
      "0    1.000000  1.000000    0.000549   1.000000                1    0.000232  \n",
      "1    1.833333  1.833008    0.000587   1.833008                1    0.000436  \n",
      "2    2.592857  2.593750    0.000615   2.593750                1    0.000163  \n",
      "3    3.318229  3.318359    0.000732   3.318359                1    0.000281  \n",
      "4    4.027246  4.027344    0.000721   4.027344                1    0.000236  \n",
      "5    4.728266  4.726562    0.001638   4.726562                1    0.000234  \n",
      "6    5.425334  5.429688    0.001459   5.429688                1    0.000317  \n",
      "7    6.120439  6.117188    0.002295   6.117188                1    0.000479  \n",
      "8    6.814563  6.816406    0.004212   6.816406                1    0.001183  \n",
      "9    7.508200  7.496094    0.016375   7.496094                1    0.001892  \n",
      "10   8.201591  8.218750    0.028184   8.218750                1    0.008663  \n",
      "11   8.894860  8.812500    0.047738   8.812500                1    0.006126  \n",
      "12   9.588066  9.796875    0.073128  10.132812                2    0.012150  \n",
      "13  10.281252  9.796875    0.156292  11.039062                5    0.024705  \n",
      "14  10.974413  9.796875    0.263475  11.328125               12    0.059131  \n",
      "15  11.667573  9.796875    0.520923  12.234375               24    0.113177  \n",
      "16  12.360724  9.796875    0.969734  13.031250               49    0.186358  \n",
      "17  13.053877  9.796875    1.948003  13.828125               99    0.381294  \n",
      "18  13.747054  9.796875    3.900604  14.609375              201    0.763086  \n",
      "19  14.440230  9.796875    9.066767  15.398438              409    1.549859  \n",
      "20  15.132898  9.796875   18.153059  16.171875              836    2.943267  \n",
      "21  15.829606  9.796875   31.459532  16.937500             1736    5.862327  \n",
      "22  16.514153  9.796875   66.328598  17.703125             3712   12.082865  \n",
      "23  17.232708  9.796875  130.694992  17.828125             7807   24.610714  \n",
      "24  17.827648  9.796875  906.060974  17.828125            15999   48.268356  \n"
     ]
    },
    {
     "data": {
      "text/plain": [
       "<matplotlib.axes._subplots.AxesSubplot at 0x215e5a779b0>"
      ]
     },
     "execution_count": 8,
     "metadata": {},
     "output_type": "execute_result"
    },
    {
     "data": {
      "image/png": "[encoded data removed]",
      "text/plain": [
       "<matplotlib.figure.Figure at 0x215e5a6f278>"
      ]
     },
     "metadata": {},
     "output_type": "display_data"
    }
   ],
   "source": [
    "x = numpy.empty(shape=(Hns.shape[0],),\n",
    "                dtype=[ (\"H16-step1\", \"float16\"),\n",
    "                        (\"step1-sum-depth\", \"int32\"),\n",
    "                        (\"time-step1\", \"float32\")])\n",
    "\n",
    "Hns_new = pandas.DataFrame(x)\n",
    "\n",
    "for i in Hns.index :\n",
    "    Hns_new.loc[i, ::] = Hn_step1_up(Hns[\"n\"][i], quiet=False)\n",
    "\n",
    "Hns = pandas.concat([Hns, Hns_new], axis=1)\n",
    "print(Hns)\n",
    "Hns.loc[::, \n",
    "       [\"n\", \"H32-up\", \"H16-down\", \"H16-up\", \"H16-step1\", \"H64-down\"]\n",
    "       ].plot(\"n\", logx=True)"
   ]
  },
  {
   "cell_type": "markdown",
   "metadata": {},
   "source": [
    "This produces a much better estimation, though it clearly provide an overestimation of $H_n$.\n",
    "\n",
    "This bias is due to the fact that the summation is _stepped_ as soon as there is a risk of underestimation while continuing in the same _step_ as long as we have over-estimation.\n",
    "\n",
    "To avoid this problem of over-estimation bias, a solution is to stop accumulating on the current accumulator before before we might make a biased choice, that is before we end-up stop completely the accumulation\n",
    "\n",
    "## Stepwise with a _precision threshold_\n",
    "\n",
    "In this case we stop when the new value is below a thresholded fraction of the current accumulator"
   ]
  },
  {
   "cell_type": "code",
   "execution_count": 9,
   "metadata": {},
   "outputs": [
    {
     "name": "stdout",
     "output_type": "stream",
     "text": [
      "n=500000 : 13.622 < H16=11.234 < 14.122 (sum depth 3900, in 5.065s)\n"
     ]
    },
    {
     "data": {
      "text/plain": [
       "(11.234, 3900, 5.06539947025226)"
      ]
     },
     "execution_count": 9,
     "metadata": {},
     "output_type": "execute_result"
    }
   ],
   "source": [
    "def Hn_step2_up(n, inv_thresh=2**7, quiet=False) :\n",
    "    start_time = time.perf_counter()\n",
    "    f16 = numpy.float16\n",
    "\n",
    "    H16 = f16(0)\n",
    "    Hs = []\n",
    "\n",
    "    #### Code comes here to perform the summation in a stepwise manner\n",
    "    #### Using the Hs list as a stack to record intermediate partial sums.\n",
    "    \n",
    "    Hs.append(f16(0)) #inititialise the first Hs\n",
    "    current_ind = 0\n",
    "    \n",
    "    for i in range(1, n, 1) :\n",
    "        if (f16(1/i) > Hs[current_ind]/inv_thresh) : #Check if adding next 1/i makes significant a difference\n",
    "            Hs[current_ind] += f16(1/i) #If it does, add it to current partial sum\n",
    "        else :\n",
    "            Hs.append(f16(1/i)) #If it doesnt, create new partial sum\n",
    "            current_ind += 1\n",
    "    \n",
    "    for H in Hs:\n",
    "        H16 += H\n",
    "\n",
    "    if not quiet :\n",
    "        print(\"n=%d : %6.3f < H16=%6.3f < %6.3f (sum depth %d, in %.3fs)\" % \n",
    "              (n, math.log(n)+.5+.5/n, H16, math.log(n)+1, len(Hs), (time.perf_counter()-start_time)))\n",
    "    return(H16, len(Hs), (time.perf_counter()-start_time))\n",
    "\n",
    "Hn_step2_up(500000)"
   ]
  },
  {
   "cell_type": "markdown",
   "metadata": {},
   "source": [
    "Doing the test over values of $n$ :"
   ]
  },
  {
   "cell_type": "code",
   "execution_count": 10,
   "metadata": {},
   "outputs": [
    {
     "name": "stdout",
     "output_type": "stream",
     "text": [
      "n=2 :  1.443 < H16= 1.000 <  1.693 (sum depth 1, in 0.000s)\n",
      "n=4 :  2.011 < H16= 1.833 <  2.386 (sum depth 1, in 0.000s)\n",
      "n=8 :  2.642 < H16= 2.590 <  3.079 (sum depth 1, in 0.000s)\n",
      "n=16 :  3.304 < H16= 3.316 <  3.773 (sum depth 1, in 0.000s)\n",
      "n=32 :  3.981 < H16= 4.023 <  4.466 (sum depth 1, in 0.000s)\n",
      "n=64 :  4.667 < H16= 4.727 <  5.159 (sum depth 2, in 0.001s)\n",
      "n=128 :  5.356 < H16= 5.422 <  5.852 (sum depth 3, in 0.002s)\n",
      "n=256 :  6.047 < H16= 6.117 <  6.545 (sum depth 4, in 0.004s)\n",
      "n=512 :  6.739 < H16= 6.812 <  7.238 (sum depth 6, in 0.007s)\n",
      "n=1024 :  7.432 < H16= 7.504 <  7.931 (sum depth 11, in 0.016s)\n",
      "n=2048 :  8.125 < H16= 8.188 <  8.625 (sum depth 19, in 0.028s)\n",
      "n=4096 :  8.818 < H16= 8.883 <  9.318 (sum depth 35, in 0.044s)\n",
      "n=8192 :  9.511 < H16= 9.570 < 10.011 (sum depth 67, in 0.081s)\n",
      "n=16384 : 10.204 < H16=10.234 < 10.704 (sum depth 132, in 0.183s)\n",
      "n=32768 : 10.897 < H16=11.227 < 11.397 (sum depth 259, in 0.339s)\n",
      "n=65536 : 11.590 < H16=11.234 < 12.090 (sum depth 515, in 0.666s)\n",
      "n=131072 : 12.284 < H16=11.234 < 12.784 (sum depth 1025, in 1.315s)\n",
      "n=262144 : 12.977 < H16=11.234 < 13.477 (sum depth 2046, in 2.644s)\n",
      "n=524288 : 13.670 < H16=11.234 < 14.170 (sum depth 4088, in 5.566s)\n",
      "n=1048576 : 14.363 < H16=11.234 < 14.863 (sum depth 8178, in 10.642s)\n",
      "n=2097152 : 15.056 < H16=11.234 < 15.556 (sum depth 16370, in 21.860s)\n",
      "n=4194304 : 15.749 < H16=11.234 < 16.249 (sum depth 32755, in 43.007s)\n",
      "n=8388608 : 16.442 < H16=11.234 < 16.942 (sum depth 65523, in 87.296s)\n",
      "n=16777216 : 17.136 < H16=11.234 < 17.636 (sum depth 131059, in 192.066s)\n",
      "n=33554432 : 17.829 < H16=11.234 < 18.329 (sum depth 262131, in 372.742s)\n",
      "           n     H64-up     H32-up    H16-up     time-up   H64-down  \\\n",
      "0          2   1.000000   1.000000  1.000000    0.000545   1.000000   \n",
      "1          4   1.833333   1.833333  1.833008    0.000577   1.833333   \n",
      "2          8   2.592857   2.592857  2.589844    0.000446   2.592857   \n",
      "3         16   3.318229   3.318229  3.316406    0.000498   3.318229   \n",
      "4         32   4.027245   4.027246  4.023438    0.000553   4.027245   \n",
      "5         64   4.728266   4.728267  4.722656    0.000959   4.728266   \n",
      "6        128   5.425335   5.425335  5.414062    0.001482   5.425335   \n",
      "7        256   6.120439   6.120440  6.082031    0.002150   6.120439   \n",
      "8        512   6.814563   6.814564  7.082031    0.004809   6.814563   \n",
      "9       1024   7.508199   7.508206  7.085938    0.008140   7.508199   \n",
      "10      2048   8.201590   8.201593  7.085938    0.013899   8.201590   \n",
      "11      4096   8.894860   8.894864  7.085938    0.028262   8.894860   \n",
      "12      8192   9.588068   9.588074  7.085938    0.054803   9.588068   \n",
      "13     16384  10.281246  10.281245  7.085938    0.132187  10.281246   \n",
      "14     32768  10.974408  10.974379  7.085938    0.274775  10.974408   \n",
      "15     65536  11.667563  11.667413  7.085938    0.551364  11.667563   \n",
      "16    131072  12.360714  12.360078  7.085938    0.997171  12.360714   \n",
      "17    262144  13.053863  13.051300  7.085938    2.042505  13.053863   \n",
      "18    524288  13.747011  13.737016  7.085938    4.961987  13.747011   \n",
      "19   1048576  14.440159  14.403683  7.085938    7.996670  14.440159   \n",
      "20   2097152  15.133306  15.403683  7.085938   18.031605  15.133306   \n",
      "21   4194304  15.826454  15.403683  7.085938   35.034817  15.826454   \n",
      "22   8388608  16.519601  15.403683  7.085938   64.995003  16.519601   \n",
      "23  16777216  17.212748  15.403683  7.085938  134.421463  17.212748   \n",
      "24  33554432  17.905895  15.403683  7.085938  263.783722  17.905895   \n",
      "\n",
      "     H32-down  H16-down   time-down  H16-step1  step1-sum-depth  time-step1  \\\n",
      "0    1.000000  1.000000    0.000549   1.000000                1    0.000232   \n",
      "1    1.833333  1.833008    0.000587   1.833008                1    0.000436   \n",
      "2    2.592857  2.593750    0.000615   2.593750                1    0.000163   \n",
      "3    3.318229  3.318359    0.000732   3.318359                1    0.000281   \n",
      "4    4.027246  4.027344    0.000721   4.027344                1    0.000236   \n",
      "5    4.728266  4.726562    0.001638   4.726562                1    0.000234   \n",
      "6    5.425334  5.429688    0.001459   5.429688                1    0.000317   \n",
      "7    6.120439  6.117188    0.002295   6.117188                1    0.000479   \n",
      "8    6.814563  6.816406    0.004212   6.816406                1    0.001183   \n",
      "9    7.508200  7.496094    0.016375   7.496094                1    0.001892   \n",
      "10   8.201591  8.218750    0.028184   8.218750                1    0.008663   \n",
      "11   8.894860  8.812500    0.047738   8.812500                1    0.006126   \n",
      "12   9.588066  9.796875    0.073128  10.132812                2    0.012150   \n",
      "13  10.281252  9.796875    0.156292  11.039062                5    0.024705   \n",
      "14  10.974413  9.796875    0.263475  11.328125               12    0.059131   \n",
      "15  11.667573  9.796875    0.520923  12.234375               24    0.113177   \n",
      "16  12.360724  9.796875    0.969734  13.031250               49    0.186358   \n",
      "17  13.053877  9.796875    1.948003  13.828125               99    0.381294   \n",
      "18  13.747054  9.796875    3.900604  14.609375              201    0.763086   \n",
      "19  14.440230  9.796875    9.066767  15.398438              409    1.549859   \n",
      "20  15.132898  9.796875   18.153059  16.171875              836    2.943267   \n",
      "21  15.829606  9.796875   31.459532  16.937500             1736    5.862327   \n",
      "22  16.514153  9.796875   66.328598  17.703125             3712   12.082865   \n",
      "23  17.232708  9.796875  130.694992  17.828125             7807   24.610714   \n",
      "24  17.827648  9.796875  906.060974  17.828125            15999   48.268356   \n",
      "\n",
      "    H16-step2-up  step2-up-sum-depth  time-step2-up  \n",
      "0       1.000000                   1       0.000200  \n",
      "1       1.833008                   1       0.000170  \n",
      "2       2.589844                   1       0.000479  \n",
      "3       3.316406                   1       0.000926  \n",
      "4       4.023438                   1       0.000544  \n",
      "5       4.726562                   2       0.000880  \n",
      "6       5.421875                   3       0.002164  \n",
      "7       6.117188                   4       0.003685  \n",
      "8       6.812500                   6       0.007561  \n",
      "9       7.503906                  11       0.016458  \n",
      "10      8.187500                  19       0.028048  \n",
      "11      8.882812                  35       0.043772  \n",
      "12      9.570312                  67       0.081406  \n",
      "13     10.234375                 132       0.182962  \n",
      "14     11.226562                 259       0.339457  \n",
      "15     11.234375                 515       0.666630  \n",
      "16     11.234375                1025       1.315269  \n",
      "17     11.234375                2046       2.644176  \n",
      "18     11.234375                4088       5.566268  \n",
      "19     11.234375                8178      10.641658  \n",
      "20     11.234375               16370      21.860273  \n",
      "21     11.234375               32755      43.007149  \n",
      "22     11.234375               65523      87.296005  \n",
      "23     11.234375              131059     192.065994  \n",
      "24     11.234375              262131     372.742004  \n"
     ]
    },
    {
     "data": {
      "text/plain": [
       "<matplotlib.axes._subplots.AxesSubplot at 0x215e5924898>"
      ]
     },
     "execution_count": 10,
     "metadata": {},
     "output_type": "execute_result"
    },
    {
     "data": {
      "image/png": "[encoded data removed]",
      "text/plain": [
       "<matplotlib.figure.Figure at 0x215e5a63cc0>"
      ]
     },
     "metadata": {},
     "output_type": "display_data"
    }
   ],
   "source": [
    "x = numpy.empty(shape=(Hns.shape[0],),\n",
    "                dtype=[ (\"H16-step2-up\", \"float16\"),\n",
    "                        (\"step2-up-sum-depth\", \"int32\"),\n",
    "                        (\"time-step2-up\", \"float32\")])\n",
    "\n",
    "Hns_new = pandas.DataFrame(x)\n",
    "\n",
    "for i in Hns.index :\n",
    "    Hns_new.loc[i, ::] = Hn_step2_up(Hns[\"n\"][i], quiet=False)\n",
    "\n",
    "Hns = pandas.concat([Hns, Hns_new], axis=1)\n",
    "print(Hns)\n",
    "Hns.loc[::, \n",
    "       [\"n\", \"H32-up\", \"H16-down\", \"H16-up\", \"H16-step1\", \"H16-step2-up\", \"H64-down\"]\n",
    "       ].plot(\"n\", logx=True)"
   ]
  },
  {
   "cell_type": "markdown",
   "metadata": {},
   "source": [
    "The problems lies in the large number of _intermediate sums_ which are all very small in values. We might get a better results by summing those _intermediate sums_ in reverse order :"
   ]
  },
  {
   "cell_type": "code",
   "execution_count": 11,
   "metadata": {},
   "outputs": [
    {
     "name": "stdout",
     "output_type": "stream",
     "text": [
      "n=500000 : 13.622 < H16=13.625 < 14.122 (sum depth 3897, in 4.229s)\n"
     ]
    },
    {
     "data": {
      "text/plain": [
       "(13.625, 3897, 4.228990309851724)"
      ]
     },
     "execution_count": 11,
     "metadata": {},
     "output_type": "execute_result"
    }
   ],
   "source": [
    "def Hn_step2_down(n, inv_thresh=2**7, quiet=False) :\n",
    "    start_time = time.perf_counter()\n",
    "    f16 = numpy.float16\n",
    "\n",
    "    H16 = f16(0)\n",
    "    Hs = []\n",
    "    Hs.append(f16(0))\n",
    "    current_ind = 0\n",
    "    #### Code comes here to perform the summation in a stepwise manner\n",
    "    #### Using the Hs list as a stack to record intermediate partial sums.\n",
    "    for i in range(1, n, 1) :\n",
    "        if (1/i > Hs[current_ind]/inv_thresh) : #Check if adding next 1/i makes significant a difference\n",
    "            Hs[current_ind] += f16(1/i) #If it does, add it to current partial sum\n",
    "        else :\n",
    "            Hs.append(f16(1/i)) #If it doesnt, create new partial sum\n",
    "            current_ind += 1\n",
    "    \n",
    "    for H in Hs[::-1]: # indeed when using the Hs (in forward order) we have difficulties due to \n",
    "        ## relative values of Hs from left to right\n",
    "        H16 += H\n",
    "\n",
    "    if not quiet :\n",
    "        print(\"n=%d : %6.3f < H16=%6.3f < %6.3f (sum depth %d, in %.3fs)\" % \n",
    "              (n, math.log(n)+.5+.5/n, H16, math.log(n)+1, len(Hs), (time.perf_counter()-start_time)))\n",
    "    return(H16, len(Hs), (time.perf_counter()-start_time))\n",
    "\n",
    "Hn_step2_down(500000)"
   ]
  },
  {
   "cell_type": "code",
   "execution_count": 12,
   "metadata": {},
   "outputs": [
    {
     "name": "stdout",
     "output_type": "stream",
     "text": [
      "n=2 :  1.443 < H16= 1.000 <  1.693 (sum depth 1, in 0.000s)\n",
      "n=4 :  2.011 < H16= 1.833 <  2.386 (sum depth 1, in 0.000s)\n",
      "n=8 :  2.642 < H16= 2.590 <  3.079 (sum depth 1, in 0.000s)\n",
      "n=16 :  3.304 < H16= 3.316 <  3.773 (sum depth 1, in 0.000s)\n",
      "n=32 :  3.981 < H16= 4.023 <  4.466 (sum depth 1, in 0.000s)\n",
      "n=64 :  4.667 < H16= 4.727 <  5.159 (sum depth 2, in 0.001s)\n",
      "n=128 :  5.356 < H16= 5.422 <  5.852 (sum depth 3, in 0.002s)\n",
      "n=256 :  6.047 < H16= 6.117 <  6.545 (sum depth 4, in 0.002s)\n",
      "n=512 :  6.739 < H16= 6.812 <  7.238 (sum depth 6, in 0.005s)\n",
      "n=1024 :  7.432 < H16= 7.504 <  7.931 (sum depth 11, in 0.008s)\n",
      "n=2048 :  8.125 < H16= 8.203 <  8.625 (sum depth 19, in 0.016s)\n",
      "n=4096 :  8.818 < H16= 8.891 <  9.318 (sum depth 35, in 0.036s)\n",
      "n=8192 :  9.511 < H16= 9.586 < 10.011 (sum depth 67, in 0.087s)\n",
      "n=16384 : 10.204 < H16=10.273 < 10.704 (sum depth 131, in 0.181s)\n",
      "n=32768 : 10.897 < H16=10.969 < 11.397 (sum depth 259, in 0.251s)\n",
      "n=65536 : 11.590 < H16=11.664 < 12.090 (sum depth 515, in 0.517s)\n",
      "n=131072 : 12.284 < H16=12.352 < 12.784 (sum depth 1025, in 1.030s)\n",
      "n=262144 : 12.977 < H16=13.062 < 13.477 (sum depth 2045, in 1.950s)\n",
      "n=524288 : 13.670 < H16=13.672 < 14.170 (sum depth 4084, in 3.745s)\n",
      "n=1048576 : 14.363 < H16=14.641 < 14.863 (sum depth 8164, in 7.751s)\n",
      "n=2097152 : 15.056 < H16=14.641 < 15.556 (sum depth 16315, in 15.988s)\n",
      "n=4194304 : 15.749 < H16=14.641 < 16.249 (sum depth 32563, in 31.683s)\n",
      "n=8388608 : 16.442 < H16=14.641 < 16.942 (sum depth 64658, in 58.841s)\n",
      "n=16777216 : 17.136 < H16=14.641 < 17.636 (sum depth 126317, in 108.631s)\n",
      "n=33554432 : 17.829 < H16=14.641 < 18.329 (sum depth 321730, in 215.623s)\n",
      "           n     H64-up     H32-up    H16-up     time-up   H64-down  \\\n",
      "0          2   1.000000   1.000000  1.000000    0.000545   1.000000   \n",
      "1          4   1.833333   1.833333  1.833008    0.000577   1.833333   \n",
      "2          8   2.592857   2.592857  2.589844    0.000446   2.592857   \n",
      "3         16   3.318229   3.318229  3.316406    0.000498   3.318229   \n",
      "4         32   4.027245   4.027246  4.023438    0.000553   4.027245   \n",
      "5         64   4.728266   4.728267  4.722656    0.000959   4.728266   \n",
      "6        128   5.425335   5.425335  5.414062    0.001482   5.425335   \n",
      "7        256   6.120439   6.120440  6.082031    0.002150   6.120439   \n",
      "8        512   6.814563   6.814564  7.082031    0.004809   6.814563   \n",
      "9       1024   7.508199   7.508206  7.085938    0.008140   7.508199   \n",
      "10      2048   8.201590   8.201593  7.085938    0.013899   8.201590   \n",
      "11      4096   8.894860   8.894864  7.085938    0.028262   8.894860   \n",
      "12      8192   9.588068   9.588074  7.085938    0.054803   9.588068   \n",
      "13     16384  10.281246  10.281245  7.085938    0.132187  10.281246   \n",
      "14     32768  10.974408  10.974379  7.085938    0.274775  10.974408   \n",
      "15     65536  11.667563  11.667413  7.085938    0.551364  11.667563   \n",
      "16    131072  12.360714  12.360078  7.085938    0.997171  12.360714   \n",
      "17    262144  13.053863  13.051300  7.085938    2.042505  13.053863   \n",
      "18    524288  13.747011  13.737016  7.085938    4.961987  13.747011   \n",
      "19   1048576  14.440159  14.403683  7.085938    7.996670  14.440159   \n",
      "20   2097152  15.133306  15.403683  7.085938   18.031605  15.133306   \n",
      "21   4194304  15.826454  15.403683  7.085938   35.034817  15.826454   \n",
      "22   8388608  16.519601  15.403683  7.085938   64.995003  16.519601   \n",
      "23  16777216  17.212748  15.403683  7.085938  134.421463  17.212748   \n",
      "24  33554432  17.905895  15.403683  7.085938  263.783722  17.905895   \n",
      "\n",
      "     H32-down  H16-down   time-down  H16-step1  step1-sum-depth  time-step1  \\\n",
      "0    1.000000  1.000000    0.000549   1.000000                1    0.000232   \n",
      "1    1.833333  1.833008    0.000587   1.833008                1    0.000436   \n",
      "2    2.592857  2.593750    0.000615   2.593750                1    0.000163   \n",
      "3    3.318229  3.318359    0.000732   3.318359                1    0.000281   \n",
      "4    4.027246  4.027344    0.000721   4.027344                1    0.000236   \n",
      "5    4.728266  4.726562    0.001638   4.726562                1    0.000234   \n",
      "6    5.425334  5.429688    0.001459   5.429688                1    0.000317   \n",
      "7    6.120439  6.117188    0.002295   6.117188                1    0.000479   \n",
      "8    6.814563  6.816406    0.004212   6.816406                1    0.001183   \n",
      "9    7.508200  7.496094    0.016375   7.496094                1    0.001892   \n",
      "10   8.201591  8.218750    0.028184   8.218750                1    0.008663   \n",
      "11   8.894860  8.812500    0.047738   8.812500                1    0.006126   \n",
      "12   9.588066  9.796875    0.073128  10.132812                2    0.012150   \n",
      "13  10.281252  9.796875    0.156292  11.039062                5    0.024705   \n",
      "14  10.974413  9.796875    0.263475  11.328125               12    0.059131   \n",
      "15  11.667573  9.796875    0.520923  12.234375               24    0.113177   \n",
      "16  12.360724  9.796875    0.969734  13.031250               49    0.186358   \n",
      "17  13.053877  9.796875    1.948003  13.828125               99    0.381294   \n",
      "18  13.747054  9.796875    3.900604  14.609375              201    0.763086   \n",
      "19  14.440230  9.796875    9.066767  15.398438              409    1.549859   \n",
      "20  15.132898  9.796875   18.153059  16.171875              836    2.943267   \n",
      "21  15.829606  9.796875   31.459532  16.937500             1736    5.862327   \n",
      "22  16.514153  9.796875   66.328598  17.703125             3712   12.082865   \n",
      "23  17.232708  9.796875  130.694992  17.828125             7807   24.610714   \n",
      "24  17.827648  9.796875  906.060974  17.828125            15999   48.268356   \n",
      "\n",
      "    H16-step2-up  step2-up-sum-depth  time-step2-up  H16-step2-down  \\\n",
      "0       1.000000                   1       0.000200        1.000000   \n",
      "1       1.833008                   1       0.000170        1.833008   \n",
      "2       2.589844                   1       0.000479        2.589844   \n",
      "3       3.316406                   1       0.000926        3.316406   \n",
      "4       4.023438                   1       0.000544        4.023438   \n",
      "5       4.726562                   2       0.000880        4.726562   \n",
      "6       5.421875                   3       0.002164        5.421875   \n",
      "7       6.117188                   4       0.003685        6.117188   \n",
      "8       6.812500                   6       0.007561        6.812500   \n",
      "9       7.503906                  11       0.016458        7.503906   \n",
      "10      8.187500                  19       0.028048        8.203125   \n",
      "11      8.882812                  35       0.043772        8.890625   \n",
      "12      9.570312                  67       0.081406        9.585938   \n",
      "13     10.234375                 132       0.182962       10.273438   \n",
      "14     11.226562                 259       0.339457       10.968750   \n",
      "15     11.234375                 515       0.666630       11.664062   \n",
      "16     11.234375                1025       1.315269       12.351562   \n",
      "17     11.234375                2046       2.644176       13.062500   \n",
      "18     11.234375                4088       5.566268       13.671875   \n",
      "19     11.234375                8178      10.641658       14.640625   \n",
      "20     11.234375               16370      21.860273       14.640625   \n",
      "21     11.234375               32755      43.007149       14.640625   \n",
      "22     11.234375               65523      87.296005       14.640625   \n",
      "23     11.234375              131059     192.065994       14.640625   \n",
      "24     11.234375              262131     372.742004       14.640625   \n",
      "\n",
      "    step2-down-sum-depth  time-step2-down  \n",
      "0                      1         0.000335  \n",
      "1                      1         0.000266  \n",
      "2                      1         0.000251  \n",
      "3                      1         0.000278  \n",
      "4                      1         0.000474  \n",
      "5                      2         0.001018  \n",
      "6                      3         0.001750  \n",
      "7                      4         0.001906  \n",
      "8                      6         0.005192  \n",
      "9                     11         0.008180  \n",
      "10                    19         0.016420  \n",
      "11                    35         0.036583  \n",
      "12                    67         0.087762  \n",
      "13                   131         0.181652  \n",
      "14                   259         0.250959  \n",
      "15                   515         0.517395  \n",
      "16                  1025         1.029720  \n",
      "17                  2045         1.950672  \n",
      "18                  4084         3.745382  \n",
      "19                  8164         7.750730  \n",
      "20                 16315        15.987913  \n",
      "21                 32563        31.683626  \n",
      "22                 64658        58.841393  \n",
      "23                126317       108.630890  \n",
      "24                321730       215.622955  \n"
     ]
    },
    {
     "data": {
      "text/plain": [
       "<matplotlib.axes._subplots.AxesSubplot at 0x215e5eccbe0>"
      ]
     },
     "execution_count": 12,
     "metadata": {},
     "output_type": "execute_result"
    },
    {
     "data": {
      "image/png": "[encoded data removed]",
      "text/plain": [
       "<matplotlib.figure.Figure at 0x215e5eccf98>"
      ]
     },
     "metadata": {},
     "output_type": "display_data"
    }
   ],
   "source": [
    "x = numpy.empty(shape=(Hns.shape[0],),\n",
    "                dtype=[ (\"H16-step2-down\", \"float16\"),\n",
    "                        (\"step2-down-sum-depth\", \"int32\"),\n",
    "                        (\"time-step2-down\", \"float32\")])\n",
    "\n",
    "Hns_new = pandas.DataFrame(x)\n",
    "\n",
    "for i in Hns.index :\n",
    "    Hns_new.loc[i, ::] = Hn_step2_down(Hns[\"n\"][i], quiet=False)\n",
    "\n",
    "Hns = pandas.concat([Hns, Hns_new], axis=1)\n",
    "print(Hns)\n",
    "Hns.loc[::, \n",
    "       [\"n\", \"H32-up\", \"H16-down\", \"H16-up\",\n",
    "        \"H16-step1\", \"H16-step2-up\", \"H16-step2-down\",\n",
    "        \"H64-down\"]\n",
    "       ].plot(\"n\", logx=True, figsize=(13, 9))"
   ]
  },
  {
   "cell_type": "code",
   "execution_count": 13,
   "metadata": {},
   "outputs": [
    {
     "data": {
      "text/plain": [
       "<matplotlib.axes._subplots.AxesSubplot at 0x215e62a0dd8>"
      ]
     },
     "execution_count": 13,
     "metadata": {},
     "output_type": "execute_result"
    },
    {
     "data": {
      "image/png": "[encoded data removed]",
      "text/plain": [
       "<matplotlib.figure.Figure at 0x215e62a0780>"
      ]
     },
     "metadata": {},
     "output_type": "display_data"
    }
   ],
   "source": [
    "#### Getting the plot\n",
    "Hns.loc[::, \n",
    "       [\"n\", \"H32-up\", \"H16-down\", \"H16-up\",\n",
    "        \"H16-step1\", \"H16-step2-up\", \"H16-step2-down\",\n",
    "        \"H64-down\"]\n",
    "       ].plot(\"n\", logx=True, figsize=(13, 9))"
   ]
  },
  {
   "cell_type": "markdown",
   "metadata": {},
   "source": [
    "From $2^{20}$ onwards the sum stays constant as, when using float16, $1/n$ are evaluated as $0$. To push a bit further this limit one might want to _bias_ accordingly the floating point exponent in the float16 format\n",
    "\n",
    "## Biasing the exponent of the float16 format\n",
    "The idea here is to introduce a bias in the sum (_ie_ multiplying every element being summed by a _bias_ and finally divide the sum itself by the same _bias_)."
   ]
  },
  {
   "cell_type": "code",
   "execution_count": 14,
   "metadata": {},
   "outputs": [
    {
     "name": "stdout",
     "output_type": "stream",
     "text": [
      "n=500000 : 13.622 < H16=13.617 < 14.122 (sum depth 3896, in 7.667s)\n"
     ]
    },
    {
     "data": {
      "text/plain": [
       "(13.6171875, 3896, 7.666694445858866)"
      ]
     },
     "execution_count": 14,
     "metadata": {},
     "output_type": "execute_result"
    }
   ],
   "source": [
    "def Hn_step2_bias(n, inv_thresh=2**7, quiet=False) :\n",
    "    start_time = time.perf_counter()\n",
    "    f16 = numpy.float16\n",
    "\n",
    "    H16 = f16(0)\n",
    "    Hs = []\n",
    "    exp_bias = 2**8\n",
    "    f16_bias = f16(exp_bias) #We will be using float16\n",
    "    Hs.append(f16(0))\n",
    "    current_ind = 0\n",
    "\n",
    "    #### Code comes here to perform the summation\n",
    "    #### Using the Hs list as a stack to record intermediate partial sums.\n",
    "    \n",
    "    for i in range(1, n, 1) :\n",
    "        if (f16_bias/i > Hs[current_ind]/inv_thresh) : #Check if adding next 1/i makes significant a difference\n",
    "            Hs[current_ind] += f16(f16_bias/i) #If it does, add it to current partial sum\n",
    "        else :\n",
    "            Hs.append(f16(1/i) * f16_bias) #If it doesnt, create new partial sum\n",
    "            current_ind += 1\n",
    "    \n",
    "    for H in Hs[::-1]:\n",
    "        H16 += H\n",
    "\n",
    "    if not quiet :\n",
    "        print(\"n=%d : %6.3f < H16=%6.3f < %6.3f (sum depth %d, in %.3fs)\" % \n",
    "              (n, math.log(n)+.5+.5/n, H16/exp_bias, math.log(n)+1, len(Hs), (time.perf_counter()-start_time)))\n",
    "    return(H16/exp_bias, len(Hs), (time.perf_counter()-start_time))\n",
    "\n",
    "Hn_step2_bias(500000)"
   ]
  },
  {
   "cell_type": "code",
   "execution_count": 15,
   "metadata": {},
   "outputs": [
    {
     "name": "stdout",
     "output_type": "stream",
     "text": [
      "n=2 :  1.443 < H16= 1.000 <  1.693 (sum depth 1, in 0.000s)\n",
      "n=4 :  2.011 < H16= 1.833 <  2.386 (sum depth 1, in 0.000s)\n",
      "n=8 :  2.642 < H16= 2.590 <  3.079 (sum depth 1, in 0.000s)\n",
      "n=16 :  3.304 < H16= 3.316 <  3.773 (sum depth 1, in 0.000s)\n",
      "n=32 :  3.981 < H16= 4.023 <  4.466 (sum depth 1, in 0.001s)\n",
      "n=64 :  4.667 < H16= 4.727 <  5.159 (sum depth 2, in 0.001s)\n",
      "n=128 :  5.356 < H16= 5.422 <  5.852 (sum depth 3, in 0.002s)\n",
      "n=256 :  6.047 < H16= 6.117 <  6.545 (sum depth 4, in 0.009s)\n",
      "n=512 :  6.739 < H16= 6.812 <  7.238 (sum depth 6, in 0.014s)\n",
      "n=1024 :  7.432 < H16= 7.504 <  7.931 (sum depth 11, in 0.024s)\n",
      "n=2048 :  8.125 < H16= 8.203 <  8.625 (sum depth 19, in 0.034s)\n",
      "n=4096 :  8.818 < H16= 8.891 <  9.318 (sum depth 35, in 0.065s)\n",
      "n=8192 :  9.511 < H16= 9.586 < 10.011 (sum depth 67, in 0.135s)\n",
      "n=16384 : 10.204 < H16=10.273 < 10.704 (sum depth 131, in 0.240s)\n",
      "n=32768 : 10.897 < H16=10.969 < 11.397 (sum depth 259, in 0.520s)\n",
      "n=65536 : 11.590 < H16=11.664 < 12.090 (sum depth 515, in 0.988s)\n",
      "n=131072 : 12.284 < H16=12.352 < 12.784 (sum depth 1025, in 1.997s)\n",
      "n=262144 : 12.977 < H16=13.070 < 13.477 (sum depth 2045, in 4.144s)\n",
      "n=524288 : 13.670 < H16=13.656 < 14.170 (sum depth 4085, in 8.083s)\n",
      "n=1048576 : 14.363 < H16=14.641 < 14.863 (sum depth 8164, in 16.132s)\n",
      "n=2097152 : 15.056 < H16=14.641 < 15.556 (sum depth 16322, in 33.229s)\n",
      "n=4194304 : 15.749 < H16=14.641 < 16.249 (sum depth 32638, in 66.297s)\n",
      "n=8388608 : 16.442 < H16=14.641 < 16.942 (sum depth 65263, in 130.114s)\n",
      "n=16777216 : 17.136 < H16=14.641 < 17.636 (sum depth 130493, in 259.295s)\n",
      "n=33554432 : 17.829 < H16=14.641 < 18.329 (sum depth 261516, in 52118.879s)\n",
      "           n     H64-up     H32-up    H16-up     time-up   H64-down  \\\n",
      "0          2   1.000000   1.000000  1.000000    0.000545   1.000000   \n",
      "1          4   1.833333   1.833333  1.833008    0.000577   1.833333   \n",
      "2          8   2.592857   2.592857  2.589844    0.000446   2.592857   \n",
      "3         16   3.318229   3.318229  3.316406    0.000498   3.318229   \n",
      "4         32   4.027245   4.027246  4.023438    0.000553   4.027245   \n",
      "5         64   4.728266   4.728267  4.722656    0.000959   4.728266   \n",
      "6        128   5.425335   5.425335  5.414062    0.001482   5.425335   \n",
      "7        256   6.120439   6.120440  6.082031    0.002150   6.120439   \n",
      "8        512   6.814563   6.814564  7.082031    0.004809   6.814563   \n",
      "9       1024   7.508199   7.508206  7.085938    0.008140   7.508199   \n",
      "10      2048   8.201590   8.201593  7.085938    0.013899   8.201590   \n",
      "11      4096   8.894860   8.894864  7.085938    0.028262   8.894860   \n",
      "12      8192   9.588068   9.588074  7.085938    0.054803   9.588068   \n",
      "13     16384  10.281246  10.281245  7.085938    0.132187  10.281246   \n",
      "14     32768  10.974408  10.974379  7.085938    0.274775  10.974408   \n",
      "15     65536  11.667563  11.667413  7.085938    0.551364  11.667563   \n",
      "16    131072  12.360714  12.360078  7.085938    0.997171  12.360714   \n",
      "17    262144  13.053863  13.051300  7.085938    2.042505  13.053863   \n",
      "18    524288  13.747011  13.737016  7.085938    4.961987  13.747011   \n",
      "19   1048576  14.440159  14.403683  7.085938    7.996670  14.440159   \n",
      "20   2097152  15.133306  15.403683  7.085938   18.031605  15.133306   \n",
      "21   4194304  15.826454  15.403683  7.085938   35.034817  15.826454   \n",
      "22   8388608  16.519601  15.403683  7.085938   64.995003  16.519601   \n",
      "23  16777216  17.212748  15.403683  7.085938  134.421463  17.212748   \n",
      "24  33554432  17.905895  15.403683  7.085938  263.783722  17.905895   \n",
      "\n",
      "     H32-down  H16-down   time-down  H16-step1       ...         time-step1  \\\n",
      "0    1.000000  1.000000    0.000549   1.000000       ...           0.000232   \n",
      "1    1.833333  1.833008    0.000587   1.833008       ...           0.000436   \n",
      "2    2.592857  2.593750    0.000615   2.593750       ...           0.000163   \n",
      "3    3.318229  3.318359    0.000732   3.318359       ...           0.000281   \n",
      "4    4.027246  4.027344    0.000721   4.027344       ...           0.000236   \n",
      "5    4.728266  4.726562    0.001638   4.726562       ...           0.000234   \n",
      "6    5.425334  5.429688    0.001459   5.429688       ...           0.000317   \n",
      "7    6.120439  6.117188    0.002295   6.117188       ...           0.000479   \n",
      "8    6.814563  6.816406    0.004212   6.816406       ...           0.001183   \n",
      "9    7.508200  7.496094    0.016375   7.496094       ...           0.001892   \n",
      "10   8.201591  8.218750    0.028184   8.218750       ...           0.008663   \n",
      "11   8.894860  8.812500    0.047738   8.812500       ...           0.006126   \n",
      "12   9.588066  9.796875    0.073128  10.132812       ...           0.012150   \n",
      "13  10.281252  9.796875    0.156292  11.039062       ...           0.024705   \n",
      "14  10.974413  9.796875    0.263475  11.328125       ...           0.059131   \n",
      "15  11.667573  9.796875    0.520923  12.234375       ...           0.113177   \n",
      "16  12.360724  9.796875    0.969734  13.031250       ...           0.186358   \n",
      "17  13.053877  9.796875    1.948003  13.828125       ...           0.381294   \n",
      "18  13.747054  9.796875    3.900604  14.609375       ...           0.763086   \n",
      "19  14.440230  9.796875    9.066767  15.398438       ...           1.549859   \n",
      "20  15.132898  9.796875   18.153059  16.171875       ...           2.943267   \n",
      "21  15.829606  9.796875   31.459532  16.937500       ...           5.862327   \n",
      "22  16.514153  9.796875   66.328598  17.703125       ...          12.082865   \n",
      "23  17.232708  9.796875  130.694992  17.828125       ...          24.610714   \n",
      "24  17.827648  9.796875  906.060974  17.828125       ...          48.268356   \n",
      "\n",
      "    H16-step2-up  step2-up-sum-depth  time-step2-up  H16-step2-down  \\\n",
      "0       1.000000                   1       0.000200        1.000000   \n",
      "1       1.833008                   1       0.000170        1.833008   \n",
      "2       2.589844                   1       0.000479        2.589844   \n",
      "3       3.316406                   1       0.000926        3.316406   \n",
      "4       4.023438                   1       0.000544        4.023438   \n",
      "5       4.726562                   2       0.000880        4.726562   \n",
      "6       5.421875                   3       0.002164        5.421875   \n",
      "7       6.117188                   4       0.003685        6.117188   \n",
      "8       6.812500                   6       0.007561        6.812500   \n",
      "9       7.503906                  11       0.016458        7.503906   \n",
      "10      8.187500                  19       0.028048        8.203125   \n",
      "11      8.882812                  35       0.043772        8.890625   \n",
      "12      9.570312                  67       0.081406        9.585938   \n",
      "13     10.234375                 132       0.182962       10.273438   \n",
      "14     11.226562                 259       0.339457       10.968750   \n",
      "15     11.234375                 515       0.666630       11.664062   \n",
      "16     11.234375                1025       1.315269       12.351562   \n",
      "17     11.234375                2046       2.644176       13.062500   \n",
      "18     11.234375                4088       5.566268       13.671875   \n",
      "19     11.234375                8178      10.641658       14.640625   \n",
      "20     11.234375               16370      21.860273       14.640625   \n",
      "21     11.234375               32755      43.007149       14.640625   \n",
      "22     11.234375               65523      87.296005       14.640625   \n",
      "23     11.234375              131059     192.065994       14.640625   \n",
      "24     11.234375              262131     372.742004       14.640625   \n",
      "\n",
      "    step2-down-sum-depth  time-step2-down  H16-step2-bias  \\\n",
      "0                      1         0.000335        1.000000   \n",
      "1                      1         0.000266        1.833008   \n",
      "2                      1         0.000251        2.589844   \n",
      "3                      1         0.000278        3.316406   \n",
      "4                      1         0.000474        4.023438   \n",
      "5                      2         0.001018        4.726562   \n",
      "6                      3         0.001750        5.421875   \n",
      "7                      4         0.001906        6.117188   \n",
      "8                      6         0.005192        6.812500   \n",
      "9                     11         0.008180        7.503906   \n",
      "10                    19         0.016420        8.203125   \n",
      "11                    35         0.036583        8.890625   \n",
      "12                    67         0.087762        9.585938   \n",
      "13                   131         0.181652       10.273438   \n",
      "14                   259         0.250959       10.968750   \n",
      "15                   515         0.517395       11.664062   \n",
      "16                  1025         1.029720       12.351562   \n",
      "17                  2045         1.950672       13.070312   \n",
      "18                  4084         3.745382       13.656250   \n",
      "19                  8164         7.750730       14.640625   \n",
      "20                 16315        15.987913       14.640625   \n",
      "21                 32563        31.683626       14.640625   \n",
      "22                 64658        58.841393       14.640625   \n",
      "23                126317       108.630890       14.640625   \n",
      "24                321730       215.622955       14.640625   \n",
      "\n",
      "    step2-bias-sum-depth  time-step2-bias  \n",
      "0                      1         0.000222  \n",
      "1                      1         0.000161  \n",
      "2                      1         0.000479  \n",
      "3                      1         0.000567  \n",
      "4                      1         0.000695  \n",
      "5                      2         0.001159  \n",
      "6                      3         0.002638  \n",
      "7                      4         0.008718  \n",
      "8                      6         0.014671  \n",
      "9                     11         0.023931  \n",
      "10                    19         0.034315  \n",
      "11                    35         0.065429  \n",
      "12                    67         0.135366  \n",
      "13                   131         0.239907  \n",
      "14                   259         0.520738  \n",
      "15                   515         0.987726  \n",
      "16                  1025         1.996987  \n",
      "17                  2045         4.144052  \n",
      "18                  4085         8.083500  \n",
      "19                  8164        16.132172  \n",
      "20                 16322        33.228802  \n",
      "21                 32638        66.297371  \n",
      "22                 65263       130.113785  \n",
      "23                130493       259.295074  \n",
      "24                261516     52118.878906  \n",
      "\n",
      "[25 rows x 21 columns]\n"
     ]
    }
   ],
   "source": [
    "x = numpy.empty(shape=(Hns.shape[0],),\n",
    "                dtype=[ (\"H16-step2-bias\", \"float16\"),\n",
    "                        (\"step2-bias-sum-depth\", \"int32\"),\n",
    "                        (\"time-step2-bias\", \"float32\")])\n",
    "\n",
    "Hns_new = pandas.DataFrame(x)\n",
    "\n",
    "for i in Hns.index :\n",
    "    Hns_new.loc[i, ::] = Hn_step2_bias(Hns[\"n\"][i], quiet=False)\n",
    "\n",
    "Hns = pandas.concat([Hns, Hns_new], axis=1)\n",
    "print(Hns)"
   ]
  },
  {
   "cell_type": "code",
   "execution_count": 16,
   "metadata": {},
   "outputs": [
    {
     "data": {
      "text/plain": [
       "<matplotlib.axes._subplots.AxesSubplot at 0x215e6694a58>"
      ]
     },
     "execution_count": 16,
     "metadata": {},
     "output_type": "execute_result"
    },
    {
     "data": {
      "image/png": "[encoded data removed]",
      "text/plain": [
       "<matplotlib.figure.Figure at 0x215e69796d8>"
      ]
     },
     "metadata": {},
     "output_type": "display_data"
    }
   ],
   "source": [
    "Hns.loc[::, \n",
    "       [\"n\", \"H32-up\", \"H16-down\", \"H16-up\",\n",
    "        \"H16-step1\", \"H16-step2-up\", \"H16-step2-down\", \"H16-step2-bias\",\n",
    "        \"H64-down\"]\n",
    "       ].plot(\"n\", logx=True, figsize=(13, 9))"
   ]
  },
  {
   "cell_type": "markdown",
   "metadata": {},
   "source": [
    "## Limiting the depth of the stepping and accumulating comensurable values\n",
    "\n",
    "The idea here is to increase the precision by _stepping_ earlier. This corresponds to the decrease of the inv_tresh parameter of the step2 functions. The problem then is that the stack that is used to store the _intermedaite sums_ tend to increase very rapidly. To avoid the large increase in the stack size, one can perform the _reduction_ of the stack _as soon as possible_.\n",
    "\n",
    "The other advantage of this adaptative reduction of the stack of _intermedaite sums_ is that those are accumulated at times we are confident their total values are in equivalent ranges, hence producing limited round-off errors."
   ]
  },
  {
   "cell_type": "code",
   "execution_count": 17,
   "metadata": {},
   "outputs": [
    {
     "name": "stdout",
     "output_type": "stream",
     "text": [
      "n=500000 : 13.622 < H16=13.688 < 14.122 (max depth 35, in 8.032s)\n"
     ]
    },
    {
     "data": {
      "text/plain": [
       "(13.6875, 35, 8.031906796568364)"
      ]
     },
     "execution_count": 17,
     "metadata": {},
     "output_type": "execute_result"
    }
   ],
   "source": [
    "def Hn_step3_bias(n, inv_thresh=2**7, quiet=False) :\n",
    "    start_time = time.perf_counter()\n",
    "    f16 = numpy.float16\n",
    "\n",
    "    H16 = f16(0)\n",
    "    Hs = []\n",
    "    depth_max = 0\n",
    "    exp_bias = 2**8\n",
    "    f16_bias = f16(exp_bias)\n",
    "    Hs.append(f16(0))\n",
    "    current_ind = 0\n",
    "\n",
    "    #### Code comes here to perform the summation\n",
    "    #### Using the Hs list as a stack to record intermediate partial sums.\n",
    "    \n",
    "    for i in range(1, n, 1) :\n",
    "        if (f16_bias/i > Hs[current_ind]/inv_thresh) : #Check if adding next 1/i makes significant a difference\n",
    "            Hs[current_ind] += f16(f16_bias/i) #If it does, add it to current partial sum\n",
    "        else :\n",
    "            if (current_ind == 0):\n",
    "                Hs.append(f16(1/i) * f16_bias) #If only one element in stack, create new partial sum\n",
    "                current_ind += 1\n",
    "            else:\n",
    "                if((Hs[current_ind] > Hs[current_ind-1]/inv_thresh)): #Check if last two sums are commensurable\n",
    "                    Hs[current_ind - 1] += Hs[current_ind] #If they are, sum them.\n",
    "                    Hs[current_ind] = f16(1/i) * f16_bias #New partial sum takes the place of old partial sum\n",
    "                else:\n",
    "                    Hs.append(f16(1/i) * f16_bias) #If last two sums are not commensurable, don't sum but create new partial sum\n",
    "                    current_ind += 1\n",
    "    \n",
    "    Hs.sort()\n",
    "    for H in Hs: \n",
    "        H16 += H \n",
    "    \n",
    "    depth_max = len(Hs)\n",
    "    \n",
    "    if not quiet :\n",
    "        print(\"n=%d : %6.3f < H16=%6.3f < %6.3f (max depth %d, in %.3fs)\" % \n",
    "              (n, math.log(n)+.5+.5/n, H16/exp_bias, math.log(n)+1, depth_max, (time.perf_counter()-start_time)))\n",
    "    return(H16/exp_bias, depth_max, (time.perf_counter()-start_time))\n",
    "\n",
    "Hn_step3_bias(500000)"
   ]
  },
  {
   "cell_type": "code",
   "execution_count": 18,
   "metadata": {},
   "outputs": [
    {
     "name": "stdout",
     "output_type": "stream",
     "text": [
      "n=2 :  1.443 < H16= 1.000 <  1.693 (max depth 1, in 0.000s)\n",
      "n=4 :  2.011 < H16= 1.833 <  2.386 (max depth 1, in 0.000s)\n",
      "n=8 :  2.642 < H16= 2.590 <  3.079 (max depth 1, in 0.000s)\n",
      "n=16 :  3.304 < H16= 3.316 <  3.773 (max depth 1, in 0.000s)\n",
      "n=32 :  3.981 < H16= 4.023 <  4.466 (max depth 1, in 0.001s)\n",
      "n=64 :  4.667 < H16= 4.727 <  5.159 (max depth 2, in 0.001s)\n",
      "n=128 :  5.356 < H16= 5.422 <  5.852 (max depth 2, in 0.002s)\n",
      "n=256 :  6.047 < H16= 6.117 <  6.545 (max depth 2, in 0.008s)\n",
      "n=512 :  6.739 < H16= 6.812 <  7.238 (max depth 2, in 0.013s)\n",
      "n=1024 :  7.432 < H16= 7.504 <  7.931 (max depth 2, in 0.022s)\n",
      "n=2048 :  8.125 < H16= 8.188 <  8.625 (max depth 2, in 0.034s)\n",
      "n=4096 :  8.818 < H16= 8.883 <  9.318 (max depth 3, in 0.065s)\n",
      "n=8192 :  9.511 < H16= 9.578 < 10.011 (max depth 3, in 0.140s)\n",
      "n=16384 : 10.204 < H16=10.266 < 10.704 (max depth 4, in 0.247s)\n",
      "n=32768 : 10.897 < H16=10.961 < 11.397 (max depth 5, in 0.514s)\n",
      "n=65536 : 11.590 < H16=11.656 < 12.090 (max depth 8, in 1.009s)\n",
      "n=131072 : 12.284 < H16=12.344 < 12.784 (max depth 12, in 2.018s)\n",
      "n=262144 : 12.977 < H16=13.039 < 13.477 (max depth 20, in 4.106s)\n",
      "n=524288 : 13.670 < H16=13.734 < 14.170 (max depth 36, in 8.619s)\n",
      "n=1048576 : 14.363 < H16=14.430 < 14.863 (max depth 69, in 16.491s)\n",
      "n=2097152 : 15.056 < H16=15.125 < 15.556 (max depth 132, in 32.460s)\n",
      "n=4194304 : 15.749 < H16=15.812 < 16.249 (max depth 260, in 64.509s)\n",
      "n=8388608 : 16.442 < H16=16.500 < 16.942 (max depth 514, in 129.962s)\n",
      "n=16777216 : 17.136 < H16=17.188 < 17.636 (max depth 1022, in 263.319s)\n",
      "n=33554432 : 17.829 < H16=17.906 < 18.329 (max depth 2043, in 2338.009s)\n",
      "           n     H64-up     H32-up    H16-up     time-up   H64-down  \\\n",
      "0          2   1.000000   1.000000  1.000000    0.000545   1.000000   \n",
      "1          4   1.833333   1.833333  1.833008    0.000577   1.833333   \n",
      "2          8   2.592857   2.592857  2.589844    0.000446   2.592857   \n",
      "3         16   3.318229   3.318229  3.316406    0.000498   3.318229   \n",
      "4         32   4.027245   4.027246  4.023438    0.000553   4.027245   \n",
      "5         64   4.728266   4.728267  4.722656    0.000959   4.728266   \n",
      "6        128   5.425335   5.425335  5.414062    0.001482   5.425335   \n",
      "7        256   6.120439   6.120440  6.082031    0.002150   6.120439   \n",
      "8        512   6.814563   6.814564  7.082031    0.004809   6.814563   \n",
      "9       1024   7.508199   7.508206  7.085938    0.008140   7.508199   \n",
      "10      2048   8.201590   8.201593  7.085938    0.013899   8.201590   \n",
      "11      4096   8.894860   8.894864  7.085938    0.028262   8.894860   \n",
      "12      8192   9.588068   9.588074  7.085938    0.054803   9.588068   \n",
      "13     16384  10.281246  10.281245  7.085938    0.132187  10.281246   \n",
      "14     32768  10.974408  10.974379  7.085938    0.274775  10.974408   \n",
      "15     65536  11.667563  11.667413  7.085938    0.551364  11.667563   \n",
      "16    131072  12.360714  12.360078  7.085938    0.997171  12.360714   \n",
      "17    262144  13.053863  13.051300  7.085938    2.042505  13.053863   \n",
      "18    524288  13.747011  13.737016  7.085938    4.961987  13.747011   \n",
      "19   1048576  14.440159  14.403683  7.085938    7.996670  14.440159   \n",
      "20   2097152  15.133306  15.403683  7.085938   18.031605  15.133306   \n",
      "21   4194304  15.826454  15.403683  7.085938   35.034817  15.826454   \n",
      "22   8388608  16.519601  15.403683  7.085938   64.995003  16.519601   \n",
      "23  16777216  17.212748  15.403683  7.085938  134.421463  17.212748   \n",
      "24  33554432  17.905895  15.403683  7.085938  263.783722  17.905895   \n",
      "\n",
      "     H32-down  H16-down   time-down  H16-step1      ...        time-step2-up  \\\n",
      "0    1.000000  1.000000    0.000549   1.000000      ...             0.000200   \n",
      "1    1.833333  1.833008    0.000587   1.833008      ...             0.000170   \n",
      "2    2.592857  2.593750    0.000615   2.593750      ...             0.000479   \n",
      "3    3.318229  3.318359    0.000732   3.318359      ...             0.000926   \n",
      "4    4.027246  4.027344    0.000721   4.027344      ...             0.000544   \n",
      "5    4.728266  4.726562    0.001638   4.726562      ...             0.000880   \n",
      "6    5.425334  5.429688    0.001459   5.429688      ...             0.002164   \n",
      "7    6.120439  6.117188    0.002295   6.117188      ...             0.003685   \n",
      "8    6.814563  6.816406    0.004212   6.816406      ...             0.007561   \n",
      "9    7.508200  7.496094    0.016375   7.496094      ...             0.016458   \n",
      "10   8.201591  8.218750    0.028184   8.218750      ...             0.028048   \n",
      "11   8.894860  8.812500    0.047738   8.812500      ...             0.043772   \n",
      "12   9.588066  9.796875    0.073128  10.132812      ...             0.081406   \n",
      "13  10.281252  9.796875    0.156292  11.039062      ...             0.182962   \n",
      "14  10.974413  9.796875    0.263475  11.328125      ...             0.339457   \n",
      "15  11.667573  9.796875    0.520923  12.234375      ...             0.666630   \n",
      "16  12.360724  9.796875    0.969734  13.031250      ...             1.315269   \n",
      "17  13.053877  9.796875    1.948003  13.828125      ...             2.644176   \n",
      "18  13.747054  9.796875    3.900604  14.609375      ...             5.566268   \n",
      "19  14.440230  9.796875    9.066767  15.398438      ...            10.641658   \n",
      "20  15.132898  9.796875   18.153059  16.171875      ...            21.860273   \n",
      "21  15.829606  9.796875   31.459532  16.937500      ...            43.007149   \n",
      "22  16.514153  9.796875   66.328598  17.703125      ...            87.296005   \n",
      "23  17.232708  9.796875  130.694992  17.828125      ...           192.065994   \n",
      "24  17.827648  9.796875  906.060974  17.828125      ...           372.742004   \n",
      "\n",
      "    H16-step2-down  step2-down-sum-depth  time-step2-down  H16-step2-bias  \\\n",
      "0         1.000000                     1         0.000335        1.000000   \n",
      "1         1.833008                     1         0.000266        1.833008   \n",
      "2         2.589844                     1         0.000251        2.589844   \n",
      "3         3.316406                     1         0.000278        3.316406   \n",
      "4         4.023438                     1         0.000474        4.023438   \n",
      "5         4.726562                     2         0.001018        4.726562   \n",
      "6         5.421875                     3         0.001750        5.421875   \n",
      "7         6.117188                     4         0.001906        6.117188   \n",
      "8         6.812500                     6         0.005192        6.812500   \n",
      "9         7.503906                    11         0.008180        7.503906   \n",
      "10        8.203125                    19         0.016420        8.203125   \n",
      "11        8.890625                    35         0.036583        8.890625   \n",
      "12        9.585938                    67         0.087762        9.585938   \n",
      "13       10.273438                   131         0.181652       10.273438   \n",
      "14       10.968750                   259         0.250959       10.968750   \n",
      "15       11.664062                   515         0.517395       11.664062   \n",
      "16       12.351562                  1025         1.029720       12.351562   \n",
      "17       13.062500                  2045         1.950672       13.070312   \n",
      "18       13.671875                  4084         3.745382       13.656250   \n",
      "19       14.640625                  8164         7.750730       14.640625   \n",
      "20       14.640625                 16315        15.987913       14.640625   \n",
      "21       14.640625                 32563        31.683626       14.640625   \n",
      "22       14.640625                 64658        58.841393       14.640625   \n",
      "23       14.640625                126317       108.630890       14.640625   \n",
      "24       14.640625                321730       215.622955       14.640625   \n",
      "\n",
      "    step2-bias-sum-depth  time-step2-bias  H16-step3-a7  step3-a7-sum-depth  \\\n",
      "0                      1         0.000222      1.000000                   1   \n",
      "1                      1         0.000161      1.833008                   1   \n",
      "2                      1         0.000479      2.589844                   1   \n",
      "3                      1         0.000567      3.316406                   1   \n",
      "4                      1         0.000695      4.023438                   1   \n",
      "5                      2         0.001159      4.726562                   2   \n",
      "6                      3         0.002638      5.421875                   2   \n",
      "7                      4         0.008718      6.117188                   2   \n",
      "8                      6         0.014671      6.812500                   2   \n",
      "9                     11         0.023931      7.503906                   2   \n",
      "10                    19         0.034315      8.187500                   2   \n",
      "11                    35         0.065429      8.882812                   3   \n",
      "12                    67         0.135366      9.578125                   3   \n",
      "13                   131         0.239907     10.265625                   4   \n",
      "14                   259         0.520738     10.960938                   5   \n",
      "15                   515         0.987726     11.656250                   8   \n",
      "16                  1025         1.996987     12.343750                  12   \n",
      "17                  2045         4.144052     13.039062                  20   \n",
      "18                  4085         8.083500     13.734375                  36   \n",
      "19                  8164        16.132172     14.429688                  69   \n",
      "20                 16322        33.228802     15.125000                 132   \n",
      "21                 32638        66.297371     15.812500                 260   \n",
      "22                 65263       130.113785     16.500000                 514   \n",
      "23                130493       259.295074     17.187500                1022   \n",
      "24                261516     52118.878906     17.906250                2043   \n",
      "\n",
      "    time-step3-a7  \n",
      "0        0.000149  \n",
      "1        0.001734  \n",
      "2        0.000470  \n",
      "3        0.000437  \n",
      "4        0.000681  \n",
      "5        0.001172  \n",
      "6        0.002207  \n",
      "7        0.008080  \n",
      "8        0.013809  \n",
      "9        0.022362  \n",
      "10       0.034039  \n",
      "11       0.065068  \n",
      "12       0.140111  \n",
      "13       0.246840  \n",
      "14       0.513819  \n",
      "15       1.009230  \n",
      "16       2.018128  \n",
      "17       4.105938  \n",
      "18       8.619216  \n",
      "19      16.491070  \n",
      "20      32.460278  \n",
      "21      64.508827  \n",
      "22     129.961823  \n",
      "23     263.319153  \n",
      "24    2338.009766  \n",
      "\n",
      "[25 rows x 24 columns]\n"
     ]
    }
   ],
   "source": [
    "x = numpy.empty(shape=(Hns.shape[0],),\n",
    "                dtype=[ (\"H16-step3-a7\", \"float16\"),\n",
    "                        (\"step3-a7-sum-depth\", \"int32\"),\n",
    "                        (\"time-step3-a7\", \"float32\")])\n",
    "\n",
    "Hns_new = pandas.DataFrame(x)\n",
    "\n",
    "for i in Hns.index :\n",
    "    Hns_new.loc[i, ::] = Hn_step3_bias(Hns[\"n\"][i], inv_thresh=2**7, quiet=False)\n",
    "\n",
    "Hns = pandas.concat([Hns, Hns_new], axis=1)\n",
    "print(Hns)"
   ]
  },
  {
   "cell_type": "code",
   "execution_count": 19,
   "metadata": {},
   "outputs": [
    {
     "data": {
      "text/plain": [
       "<matplotlib.axes._subplots.AxesSubplot at 0x215e6110710>"
      ]
     },
     "execution_count": 19,
     "metadata": {},
     "output_type": "execute_result"
    },
    {
     "data": {
      "image/png": "[encoded data removed]",
      "text/plain": [
       "<matplotlib.figure.Figure at 0x215e6133828>"
      ]
     },
     "metadata": {},
     "output_type": "display_data"
    }
   ],
   "source": [
    "Hns.loc[::,\n",
    "        [\"n\", \"H32-up\", \"H32-down\", \"H16-up\", \"H16-down\",\n",
    "         \"H16-step1\", \"H16-step2-down\", \"H16-step2-bias\",\n",
    "         \"H64-down\", \"H16-step3-a7\"]\n",
    "       ].plot(\"n\", logx=True, figsize=(13, 9))"
   ]
  },
  {
   "cell_type": "markdown",
   "metadata": {},
   "source": [
    "And doing the same with performing the _stepping_ more often, hence reducing the effect of the loss of accuracy by adding a small value to an already _large intermediate sum_. This simply corresponds to lowering the inv_thresh in the Hn_step3_bias function."
   ]
  },
  {
   "cell_type": "code",
   "execution_count": 20,
   "metadata": {},
   "outputs": [
    {
     "name": "stdout",
     "output_type": "stream",
     "text": [
      "n=2 :  1.443 < H16= 1.000 <  1.693 (max depth 1, in 0.000s)\n",
      "n=4 :  2.011 < H16= 1.833 <  2.386 (max depth 1, in 0.000s)\n",
      "n=8 :  2.642 < H16= 2.592 <  3.079 (max depth 2, in 0.000s)\n",
      "n=16 :  3.304 < H16= 3.316 <  3.773 (max depth 2, in 0.000s)\n",
      "n=32 :  3.981 < H16= 4.023 <  4.466 (max depth 3, in 0.001s)\n",
      "n=64 :  4.667 < H16= 4.727 <  5.159 (max depth 3, in 0.001s)\n",
      "n=128 :  5.356 < H16= 5.422 <  5.852 (max depth 5, in 0.002s)\n",
      "n=256 :  6.047 < H16= 6.117 <  6.545 (max depth 7, in 0.005s)\n",
      "n=512 :  6.739 < H16= 6.812 <  7.238 (max depth 11, in 0.010s)\n",
      "n=1024 :  7.432 < H16= 7.504 <  7.931 (max depth 19, in 0.020s)\n",
      "n=2048 :  8.125 < H16= 8.203 <  8.625 (max depth 35, in 0.034s)\n",
      "n=4096 :  8.818 < H16= 8.891 <  9.318 (max depth 67, in 0.067s)\n",
      "n=8192 :  9.511 < H16= 9.578 < 10.011 (max depth 130, in 0.156s)\n",
      "n=16384 : 10.204 < H16=10.281 < 10.704 (max depth 251, in 0.320s)\n",
      "n=32768 : 10.897 < H16=10.984 < 11.397 (max depth 482, in 0.570s)\n",
      "n=65536 : 11.590 < H16=11.672 < 12.090 (max depth 945, in 1.244s)\n",
      "n=131072 : 12.284 < H16=12.391 < 12.784 (max depth 1883, in 2.367s)\n",
      "n=262144 : 12.977 < H16=13.023 < 13.477 (max depth 3759, in 4.850s)\n",
      "n=524288 : 13.670 < H16=14.047 < 14.170 (max depth 7538, in 9.994s)\n",
      "n=1048576 : 14.363 < H16=14.047 < 14.863 (max depth 15113, in 20.057s)\n",
      "n=2097152 : 15.056 < H16=14.047 < 15.556 (max depth 30285, in 39.197s)\n",
      "n=4194304 : 15.749 < H16=14.047 < 16.249 (max depth 60572, in 85.895s)\n",
      "n=8388608 : 16.442 < H16=14.047 < 16.942 (max depth 120917, in 161.706s)\n",
      "n=16777216 : 17.136 < H16=14.047 < 17.636 (max depth 240417, in 297.892s)\n",
      "n=33554432 : 17.829 < H16=14.047 < 18.329 (max depth 496364, in 584.965s)\n",
      "           n   H64-down     H32-up   H32-down    H16-up  H16-down  H16-step1  \\\n",
      "0          2   1.000000   1.000000   1.000000  1.000000  1.000000   1.000000   \n",
      "1          4   1.833333   1.833333   1.833333  1.833008  1.833008   1.833008   \n",
      "2          8   2.592857   2.592857   2.592857  2.589844  2.593750   2.593750   \n",
      "3         16   3.318229   3.318229   3.318229  3.316406  3.318359   3.318359   \n",
      "4         32   4.027245   4.027246   4.027246  4.023438  4.027344   4.027344   \n",
      "5         64   4.728266   4.728267   4.728266  4.722656  4.726562   4.726562   \n",
      "6        128   5.425335   5.425335   5.425334  5.414062  5.429688   5.429688   \n",
      "7        256   6.120439   6.120440   6.120439  6.082031  6.117188   6.117188   \n",
      "8        512   6.814563   6.814564   6.814563  7.082031  6.816406   6.816406   \n",
      "9       1024   7.508199   7.508206   7.508200  7.085938  7.496094   7.496094   \n",
      "10      2048   8.201590   8.201593   8.201591  7.085938  8.218750   8.218750   \n",
      "11      4096   8.894860   8.894864   8.894860  7.085938  8.812500   8.812500   \n",
      "12      8192   9.588068   9.588074   9.588066  7.085938  9.796875  10.132812   \n",
      "13     16384  10.281246  10.281245  10.281252  7.085938  9.796875  11.039062   \n",
      "14     32768  10.974408  10.974379  10.974413  7.085938  9.796875  11.328125   \n",
      "15     65536  11.667563  11.667413  11.667573  7.085938  9.796875  12.234375   \n",
      "16    131072  12.360714  12.360078  12.360724  7.085938  9.796875  13.031250   \n",
      "17    262144  13.053863  13.051300  13.053877  7.085938  9.796875  13.828125   \n",
      "18    524288  13.747011  13.737016  13.747054  7.085938  9.796875  14.609375   \n",
      "19   1048576  14.440159  14.403683  14.440230  7.085938  9.796875  15.398438   \n",
      "20   2097152  15.133306  15.403683  15.132898  7.085938  9.796875  16.171875   \n",
      "21   4194304  15.826454  15.403683  15.829606  7.085938  9.796875  16.937500   \n",
      "22   8388608  16.519601  15.403683  16.514153  7.085938  9.796875  17.703125   \n",
      "23  16777216  17.212748  15.403683  17.232708  7.085938  9.796875  17.828125   \n",
      "24  33554432  17.905895  15.403683  17.827648  7.085938  9.796875  17.828125   \n",
      "\n",
      "    H16-step2-down  H16-step2-bias  H16-step3-a7  H16-step3-a3  \n",
      "0         1.000000        1.000000      1.000000      1.000000  \n",
      "1         1.833008        1.833008      1.833008      1.833008  \n",
      "2         2.589844        2.589844      2.589844      2.591797  \n",
      "3         3.316406        3.316406      3.316406      3.316406  \n",
      "4         4.023438        4.023438      4.023438      4.023438  \n",
      "5         4.726562        4.726562      4.726562      4.726562  \n",
      "6         5.421875        5.421875      5.421875      5.421875  \n",
      "7         6.117188        6.117188      6.117188      6.117188  \n",
      "8         6.812500        6.812500      6.812500      6.812500  \n",
      "9         7.503906        7.503906      7.503906      7.503906  \n",
      "10        8.203125        8.203125      8.187500      8.203125  \n",
      "11        8.890625        8.890625      8.882812      8.890625  \n",
      "12        9.585938        9.585938      9.578125      9.578125  \n",
      "13       10.273438       10.273438     10.265625     10.281250  \n",
      "14       10.968750       10.968750     10.960938     10.984375  \n",
      "15       11.664062       11.664062     11.656250     11.671875  \n",
      "16       12.351562       12.351562     12.343750     12.390625  \n",
      "17       13.062500       13.070312     13.039062     13.023438  \n",
      "18       13.671875       13.656250     13.734375     14.046875  \n",
      "19       14.640625       14.640625     14.429688     14.046875  \n",
      "20       14.640625       14.640625     15.125000     14.046875  \n",
      "21       14.640625       14.640625     15.812500     14.046875  \n",
      "22       14.640625       14.640625     16.500000     14.046875  \n",
      "23       14.640625       14.640625     17.187500     14.046875  \n",
      "24       14.640625       14.640625     17.906250     14.046875  \n"
     ]
    }
   ],
   "source": [
    "x = numpy.empty(shape=(Hns.shape[0],),\n",
    "                dtype=[ (\"H16-step3-a3\", \"float16\"),\n",
    "                        (\"step3-a3-sum-depth\", \"int32\"),\n",
    "                        (\"time-step3-a3\", \"float32\")])\n",
    "\n",
    "Hns_new = pandas.DataFrame(x)\n",
    "\n",
    "for i in Hns.index :\n",
    "    Hns_new.loc[i, ::] = Hn_step3_bias(Hns[\"n\"][i], inv_thresh=2**3, quiet=False)\n",
    "\n",
    "Hns = pandas.concat([Hns, Hns_new], axis=1)\n",
    "print(Hns.loc[::,\n",
    "        [\"n\", \"H64-down\", \"H32-up\", \"H32-down\", \"H16-up\", \"H16-down\",\n",
    "         \"H16-step1\", \"H16-step2-down\", \"H16-step2-bias\",\n",
    "         \"H16-step3-a7\", \"H16-step3-a3\"]])"
   ]
  },
  {
   "cell_type": "code",
   "execution_count": 21,
   "metadata": {},
   "outputs": [
    {
     "data": {
      "text/plain": [
       "<matplotlib.axes._subplots.AxesSubplot at 0x215e6105eb8>"
      ]
     },
     "execution_count": 21,
     "metadata": {},
     "output_type": "execute_result"
    },
    {
     "data": {
      "image/png": "[encoded data removed]",
      "text/plain": [
       "<matplotlib.figure.Figure at 0x215e5e147f0>"
      ]
     },
     "metadata": {},
     "output_type": "display_data"
    }
   ],
   "source": [
    "Hns.loc[::,\n",
    "        [\"n\", \"H32-up\", \"H32-down\", \"H16-up\", \"H16-down\",\n",
    "         \"H16-step1\", \"H16-step2-down\", \"H16-step2-bias\",\n",
    "         \"H64-down\", \"H16-step3-a7\", \"H16-step3-a3\"]\n",
    "       ].plot(\"n\", logx=True, figsize=(13, 9))"
   ]
  },
  {
   "cell_type": "markdown",
   "metadata": {},
   "source": [
    "## Removing the _exponent bias_ to see if it is really useful\n",
    "\n",
    "At some point earlier we have used a multiplicative bias to try to use as best as possible the exponent dynomic of the float16 (IEEE754) format. It would be interesting to see to what level this is required."
   ]
  },
  {
   "cell_type": "code",
   "execution_count": 22,
   "metadata": {},
   "outputs": [
    {
     "name": "stdout",
     "output_type": "stream",
     "text": [
      "n=500000 : 13.622 < H16=13.688 < 14.122 (max depth 35, in 8.110s)\n"
     ]
    },
    {
     "data": {
      "text/plain": [
       "(13.6875, 35, 8.109713712852681)"
      ]
     },
     "execution_count": 22,
     "metadata": {},
     "output_type": "execute_result"
    }
   ],
   "source": [
    "def Hn_step3_bias(n, inv_thresh=2**7, exp_bias = 2**8, quiet=False) :\n",
    "    start_time = time.perf_counter()\n",
    "    f16 = numpy.float16\n",
    "\n",
    "    H16 = f16(0)\n",
    "    Hs = []\n",
    "    depth_max = 0\n",
    "    f16_bias = f16(exp_bias)\n",
    "    Hs.append(f16(0))\n",
    "    current_ind = 0\n",
    "\n",
    "    #### Code comes here to perform the summation\n",
    "    #### Using the Hs list as a stack to record intermediate partial sums.\n",
    "    \n",
    "    for i in range(1, n, 1) :\n",
    "        if (f16_bias/i > Hs[current_ind]/inv_thresh) : #Check if adding next 1/i makes significant a difference\n",
    "            Hs[current_ind] += f16(f16_bias/i) #If it does, add it to current partial sum\n",
    "        else :\n",
    "            if (current_ind == 0):\n",
    "                Hs.append(f16(1/i) * f16_bias) #If only one element in stack, create new partial sum\n",
    "                current_ind += 1\n",
    "            else:\n",
    "                if((Hs[current_ind] > Hs[current_ind-1]/inv_thresh)): #Check if last two sums are commensurable\n",
    "                    Hs[current_ind - 1] += Hs[current_ind] #If they are, sum them.\n",
    "                    Hs[current_ind] = f16(1/i) * f16_bias #New partial sum takes the place of old partial sum\n",
    "                else:\n",
    "                    Hs.append(f16(1/i) * f16_bias) #If last two sums are not commensurable, don't sum but create new partial sum\n",
    "                    current_ind += 1\n",
    "    \n",
    "    Hs.sort()\n",
    "    for H in Hs: \n",
    "        H16 += H \n",
    "    \n",
    "    depth_max = len(Hs)\n",
    "    \n",
    "    if not quiet :\n",
    "        print(\"n=%d : %6.3f < H16=%6.3f < %6.3f (max depth %d, in %.3fs)\" % \n",
    "              (n, math.log(n)+.5+.5/n, H16/exp_bias, math.log(n)+1, depth_max, (time.perf_counter()-start_time)))\n",
    "    return(H16/exp_bias, depth_max, (time.perf_counter()-start_time))\n",
    "\n",
    "Hn_step3_bias(500000, exp_bias=1)"
   ]
  },
  {
   "cell_type": "code",
   "execution_count": 23,
   "metadata": {},
   "outputs": [
    {
     "name": "stdout",
     "output_type": "stream",
     "text": [
      "n=2 :  1.443 < H16= 1.000 <  1.693 (max depth 1, in 0.000s)\n",
      "n=4 :  2.011 < H16= 1.833 <  2.386 (max depth 1, in 0.000s)\n",
      "n=8 :  2.642 < H16= 2.592 <  3.079 (max depth 2, in 0.000s)\n",
      "n=16 :  3.304 < H16= 3.316 <  3.773 (max depth 2, in 0.001s)\n",
      "n=32 :  3.981 < H16= 4.023 <  4.466 (max depth 3, in 0.001s)\n",
      "n=64 :  4.667 < H16= 4.727 <  5.159 (max depth 3, in 0.001s)\n",
      "n=128 :  5.356 < H16= 5.422 <  5.852 (max depth 5, in 0.002s)\n",
      "n=256 :  6.047 < H16= 6.117 <  6.545 (max depth 7, in 0.004s)\n",
      "n=512 :  6.739 < H16= 6.812 <  7.238 (max depth 11, in 0.008s)\n",
      "n=1024 :  7.432 < H16= 7.504 <  7.931 (max depth 19, in 0.017s)\n",
      "n=2048 :  8.125 < H16= 8.203 <  8.625 (max depth 35, in 0.033s)\n",
      "n=4096 :  8.818 < H16= 8.891 <  9.318 (max depth 67, in 0.069s)\n",
      "n=8192 :  9.511 < H16= 9.578 < 10.011 (max depth 130, in 0.138s)\n",
      "n=16384 : 10.204 < H16=10.281 < 10.704 (max depth 251, in 0.284s)\n",
      "n=32768 : 10.897 < H16=10.984 < 11.397 (max depth 483, in 0.520s)\n",
      "n=65536 : 11.590 < H16=11.672 < 12.090 (max depth 945, in 1.060s)\n",
      "n=131072 : 12.284 < H16=12.398 < 12.784 (max depth 1889, in 2.101s)\n",
      "n=262144 : 12.977 < H16=13.031 < 13.477 (max depth 3790, in 4.400s)\n",
      "n=524288 : 13.670 < H16=14.039 < 14.170 (max depth 7635, in 8.663s)\n",
      "n=1048576 : 14.363 < H16=14.039 < 14.863 (max depth 15359, in 18.301s)\n",
      "n=2097152 : 15.056 < H16=14.039 < 15.556 (max depth 30790, in 37.427s)\n",
      "n=4194304 : 15.749 < H16=14.039 < 16.249 (max depth 61568, in 79.472s)\n",
      "n=8388608 : 16.442 < H16=14.039 < 16.942 (max depth 122235, in 155.831s)\n",
      "n=16777216 : 17.136 < H16=14.039 < 17.636 (max depth 238482, in 274.040s)\n",
      "n=33554432 : 17.829 < H16=14.039 < 18.329 (max depth 593976, in 542.471s)\n",
      "           n   H64-down  H16-step3-a3  H16-step3-a3-nob  H16-step2-down  \\\n",
      "0          2   1.000000      1.000000          1.000000        1.000000   \n",
      "1          4   1.833333      1.833008          1.833008        1.833008   \n",
      "2          8   2.592857      2.591797          2.591797        2.589844   \n",
      "3         16   3.318229      3.316406          3.316406        3.316406   \n",
      "4         32   4.027245      4.023438          4.023438        4.023438   \n",
      "5         64   4.728266      4.726562          4.726562        4.726562   \n",
      "6        128   5.425335      5.421875          5.421875        5.421875   \n",
      "7        256   6.120439      6.117188          6.117188        6.117188   \n",
      "8        512   6.814563      6.812500          6.812500        6.812500   \n",
      "9       1024   7.508199      7.503906          7.503906        7.503906   \n",
      "10      2048   8.201590      8.203125          8.203125        8.203125   \n",
      "11      4096   8.894860      8.890625          8.890625        8.890625   \n",
      "12      8192   9.588068      9.578125          9.578125        9.585938   \n",
      "13     16384  10.281246     10.281250         10.281250       10.273438   \n",
      "14     32768  10.974408     10.984375         10.984375       10.968750   \n",
      "15     65536  11.667563     11.671875         11.671875       11.664062   \n",
      "16    131072  12.360714     12.390625         12.398438       12.351562   \n",
      "17    262144  13.053863     13.023438         13.031250       13.062500   \n",
      "18    524288  13.747011     14.046875         14.039062       13.671875   \n",
      "19   1048576  14.440159     14.046875         14.039062       14.640625   \n",
      "20   2097152  15.133306     14.046875         14.039062       14.640625   \n",
      "21   4194304  15.826454     14.046875         14.039062       14.640625   \n",
      "22   8388608  16.519601     14.046875         14.039062       14.640625   \n",
      "23  16777216  17.212748     14.046875         14.039062       14.640625   \n",
      "24  33554432  17.905895     14.046875         14.039062       14.640625   \n",
      "\n",
      "       H32-up  H16-step3-a7  \n",
      "0    1.000000      1.000000  \n",
      "1    1.833333      1.833008  \n",
      "2    2.592857      2.589844  \n",
      "3    3.318229      3.316406  \n",
      "4    4.027246      4.023438  \n",
      "5    4.728267      4.726562  \n",
      "6    5.425335      5.421875  \n",
      "7    6.120440      6.117188  \n",
      "8    6.814564      6.812500  \n",
      "9    7.508206      7.503906  \n",
      "10   8.201593      8.187500  \n",
      "11   8.894864      8.882812  \n",
      "12   9.588074      9.578125  \n",
      "13  10.281245     10.265625  \n",
      "14  10.974379     10.960938  \n",
      "15  11.667413     11.656250  \n",
      "16  12.360078     12.343750  \n",
      "17  13.051300     13.039062  \n",
      "18  13.737016     13.734375  \n",
      "19  14.403683     14.429688  \n",
      "20  15.403683     15.125000  \n",
      "21  15.403683     15.812500  \n",
      "22  15.403683     16.500000  \n",
      "23  15.403683     17.187500  \n",
      "24  15.403683     17.906250  \n"
     ]
    }
   ],
   "source": [
    "x = numpy.empty(shape=(Hns.shape[0],),\n",
    "                dtype=[ (\"H16-step3-a3-nob\", \"float16\"),\n",
    "                        (\"step3-a3-nob-sum-depth\", \"int32\"),\n",
    "                        (\"time-step3-a3-nob\", \"float32\")])\n",
    "\n",
    "Hns_new = pandas.DataFrame(x)\n",
    "\n",
    "for i in Hns.index :\n",
    "    Hns_new.loc[i, ::] = Hn_step3_bias(Hns[\"n\"][i], inv_thresh=2**3, exp_bias=1, quiet=False)\n",
    "\n",
    "Hns = pandas.concat([Hns, Hns_new], axis=1)\n",
    "print(Hns.loc[::,\n",
    "        [\"n\", \"H64-down\", \"H16-step3-a3\", \"H16-step3-a3-nob\", \"H16-step2-down\",\n",
    "         \"H32-up\", \"H16-step3-a7\"]])"
   ]
  },
  {
   "cell_type": "markdown",
   "metadata": {},
   "source": [
    "## Indefinite range computation\n",
    "\n",
    "Using the scheme of the **step3** version of the summation we can compute for an _infinite range_, that is print from time to time while letting the summation run until a keyboard interrupt (or any other interupt) is send to the process. This can be done on both the **step3** version and on _naive sum up_ version, preferrably using float64 precision to have some chance that this one is close to the true value."
   ]
  },
  {
   "cell_type": "code",
   "execution_count": 24,
   "metadata": {},
   "outputs": [
    {
     "name": "stdout",
     "output_type": "stream",
     "text": [
      "n=1 :  0.500 < H64-up= 1.000, H16-adapt= 1.000 <  1.000 (in 0.040s, max depth 0), error= 0.000%\n",
      "n=2 :  1.193 < H64-up= 1.500, H16-adapt= 1.500 <  1.693 (in 0.130s, max depth 0), error= 0.000%\n",
      "n=4 :  1.886 < H64-up= 2.083, H16-adapt= 2.082 <  2.386 (in 0.133s, max depth 0), error= 0.062%\n",
      "n=8 :  2.579 < H64-up= 2.718, H16-adapt= 2.717 <  3.079 (in 0.136s, max depth 0), error= 0.039%\n",
      "n=16 :  3.273 < H64-up= 3.381, H16-adapt= 3.379 <  3.773 (in 0.138s, max depth 0), error= 0.047%\n",
      "n=32 :  3.966 < H64-up= 4.058, H16-adapt= 4.057 <  4.466 (in 0.140s, max depth 0), error= 0.046%\n",
      "n=64 :  4.659 < H64-up= 4.744, H16-adapt= 4.741 <  5.159 (in 0.142s, max depth 0), error= 0.059%\n",
      "n=128 :  5.352 < H64-up= 5.433, H16-adapt= 5.430 <  5.852 (in 0.146s, max depth 0), error= 0.052%\n",
      "n=256 :  6.045 < H64-up= 6.124, H16-adapt= 6.122 <  6.545 (in 0.149s, max depth 0), error= 0.041%\n",
      "n=512 :  6.738 < H64-up= 6.817, H16-adapt= 6.814 <  7.238 (in 0.154s, max depth 0), error= 0.036%\n",
      "n=1024 :  7.431 < H64-up= 7.509, H16-adapt= 7.507 <  7.931 (in 0.162s, max depth 0), error= 0.035%\n",
      "n=2048 :  8.125 < H64-up= 8.202, H16-adapt= 8.199 <  8.625 (in 0.178s, max depth 0), error= 0.033%\n",
      "n=4096 :  8.818 < H64-up= 8.895, H16-adapt= 8.892 <  9.318 (in 0.205s, max depth 0), error= 0.030%\n",
      "n=8192 :  9.511 < H64-up= 9.588, H16-adapt= 9.586 < 10.011 (in 0.258s, max depth 0), error= 0.028%\n",
      "n=16384 : 10.204 < H64-up=10.281, H16-adapt=10.279 < 10.704 (in 0.379s, max depth 0), error= 0.026%\n",
      "n=32768 : 10.897 < H64-up=10.974, H16-adapt=10.972 < 11.397 (in 0.593s, max depth 0), error= 0.023%\n",
      "n=65536 : 11.590 < H64-up=11.668, H16-adapt=11.665 < 12.090 (in 0.999s, max depth 0), error= 0.022%\n",
      "n=131072 : 12.284 < H64-up=12.361, H16-adapt=12.358 < 12.784 (in 1.810s, max depth 0), error= 0.020%\n",
      "n=262144 : 12.977 < H64-up=13.054, H16-adapt=13.051 < 13.477 (in 3.441s, max depth 0), error= 0.019%\n",
      "n=524288 : 13.670 < H64-up=13.747, H16-adapt=13.745 < 14.170 (in 6.800s, max depth 0), error= 0.018%\n",
      "n=1048576 : 14.363 < H64-up=14.440, H16-adapt=14.438 < 14.863 (in 13.357s, max depth 0), error= 0.017%\n",
      "n=2097152 : 15.056 < H64-up=15.133, H16-adapt=15.131 < 15.556 (in 26.527s, max depth 0), error= 0.016%\n",
      "n=4194304 : 15.749 < H64-up=15.826, H16-adapt=15.824 < 16.249 (in 53.347s, max depth 0), error= 0.015%\n",
      "n=8388608 : 16.442 < H64-up=16.520, H16-adapt=16.517 < 16.942 (in 109.373s, max depth 0), error= 0.017%\n",
      "n=16777216 : 17.136 < H64-up=17.213, H16-adapt=17.208 < 17.636 (in 1164.927s, max depth 0), error= 0.030%\n",
      "n=33554432 : 17.829 < H64-up=17.906, H16-adapt=17.939 < 18.329 (in 1395.670s, max depth 0), error=-0.186%\n",
      "n=67108864 : 18.522 < H64-up=18.599, H16-adapt=18.559 < 19.022 (in 1849.892s, max depth 0), error= 0.214%\n",
      "n=134217728 : 19.215 < H64-up=19.292, H16-adapt=19.179 < 19.715 (in 18172.166s, max depth 0), error= 0.586%\n"
     ]
    },
    {
     "ename": "KeyboardInterrupt",
     "evalue": "",
     "output_type": "error",
     "traceback": [
      "\u001b[1;31m---------------------------------------------------------------------------\u001b[0m",
      "\u001b[1;31mKeyboardInterrupt\u001b[0m                         Traceback (most recent call last)",
      "\u001b[1;32m<ipython-input-24-d7e73aedd65f>\u001b[0m in \u001b[0;36m<module>\u001b[1;34m()\u001b[0m\n\u001b[0;32m     42\u001b[0m     \u001b[1;31m#### Code comes here to perform the summation as step3\u001b[0m\u001b[1;33m\u001b[0m\u001b[1;33m\u001b[0m\u001b[0m\n\u001b[0;32m     43\u001b[0m     \u001b[1;31m#### Using the Hs list as a stack to record intermediate partial sums.\u001b[0m\u001b[1;33m\u001b[0m\u001b[1;33m\u001b[0m\u001b[0m\n\u001b[1;32m---> 44\u001b[1;33m     \u001b[1;32mif\u001b[0m \u001b[1;33m(\u001b[0m\u001b[0mexp_bias\u001b[0m\u001b[1;33m/\u001b[0m\u001b[0mi\u001b[0m \u001b[1;33m>\u001b[0m \u001b[0mHs\u001b[0m\u001b[1;33m[\u001b[0m\u001b[0mcurrent_ind\u001b[0m\u001b[1;33m]\u001b[0m\u001b[1;33m/\u001b[0m\u001b[0minv_thresh\u001b[0m\u001b[1;33m)\u001b[0m \u001b[1;33m:\u001b[0m \u001b[1;31m#Check if adding next 1/i makes significant a difference\u001b[0m\u001b[1;33m\u001b[0m\u001b[0m\n\u001b[0m\u001b[0;32m     45\u001b[0m         \u001b[0mHs\u001b[0m\u001b[1;33m[\u001b[0m\u001b[0mcurrent_ind\u001b[0m\u001b[1;33m]\u001b[0m \u001b[1;33m+=\u001b[0m \u001b[0mf16\u001b[0m\u001b[1;33m(\u001b[0m\u001b[0mexp_bias\u001b[0m\u001b[1;33m/\u001b[0m\u001b[0mi\u001b[0m\u001b[1;33m)\u001b[0m \u001b[1;31m#If it does, add it to current partial sum\u001b[0m\u001b[1;33m\u001b[0m\u001b[0m\n\u001b[0;32m     46\u001b[0m     \u001b[1;32melse\u001b[0m \u001b[1;33m:\u001b[0m\u001b[1;33m\u001b[0m\u001b[0m\n",
      "\u001b[1;31mKeyboardInterrupt\u001b[0m: "
     ]
    }
   ],
   "source": [
    "## Implementing the summation in the «naive» way\n",
    "import math\n",
    "import numpy\n",
    "\n",
    "import itertools ## infinite generator :\n",
    "\n",
    "## short hands for explicit type conversion functions :\n",
    "f16 = numpy.float16\n",
    "f64 = numpy.float64\n",
    "\n",
    "## Starting the computation itself (and its timing) :\n",
    "start_time = time.perf_counter()\n",
    "\n",
    "## For the /naive/ sum up, using float64 precision :\n",
    "H64 = f64(0)\n",
    "## For the /adaptative stepped/ sum 'up/down', using float16 precision :\n",
    "H16 = f16(0)\n",
    "Hs = []\n",
    "depth_max = 0\n",
    "exp_bias = f16(2**8)\n",
    "inv_thresh = f16(2**3)\n",
    "current_ind = 0\n",
    "Hs.append(f16(0))\n",
    "\n",
    "## Recording results in a pandas.DataFrame as the computation goes on :\n",
    "x = numpy.empty(shape=(0,),\n",
    "                dtype=[ (\"n\", \"int64\"),\n",
    "                        (\"H64-up\", \"float64\"),\n",
    "                        (\"H16-adapt\", \"float16\"),\n",
    "                        (\"H16-depth-max\", \"int16\"),\n",
    "                        (\"time\", \"float32\")])\n",
    "\n",
    "Hns_inf = pandas.DataFrame(x)\n",
    "\n",
    "## Performing an infinite for loop by using an endless generator :\n",
    "for i in itertools.count(start=1, step=1) :\n",
    "    ## float64, naive version :\n",
    "    H64 += f64(1/i)\n",
    "    \n",
    "    ## float16 version, adapted from the step3 version (with exponent bias) :\n",
    "\n",
    "    #### Code comes here to perform the summation as step3\n",
    "    #### Using the Hs list as a stack to record intermediate partial sums.\n",
    "    if (exp_bias/i > Hs[current_ind]/inv_thresh) : #Check if adding next 1/i makes significant a difference\n",
    "        Hs[current_ind] += f16(exp_bias/i) #If it does, add it to current partial sum\n",
    "    else :\n",
    "        if (current_ind == 0):\n",
    "            Hs.append(f16(1/i) * exp_bias) #If only one element in stack, create new partial sum\n",
    "            current_ind += 1\n",
    "        else:\n",
    "            if((Hs[current_ind] > Hs[current_ind-1]/inv_thresh)): #Check if last two sums are commensurable\n",
    "                Hs[current_ind - 1] += Hs[current_ind] #If they are, sum them.\n",
    "                Hs[current_ind] = f16(1/i) * exp_bias #New partial sum takes the place of old partial sum\n",
    "            else:\n",
    "                Hs.append(f16(1/i) * exp_bias) #If last two sums are not commensurable, don't sum but create new partial sum\n",
    "                current_ind += 1\n",
    "    \n",
    "    ## reporting when i is a power of 2 :\n",
    "    if (i and not (i & (i-1) )):\n",
    "        ## Finishing up the float16 computation (low cost) :\n",
    "        H16_here = 0\n",
    "        for H in Hs[::-1]: ## Summing the partial sum stack, «downward»\n",
    "            H16_here += H\n",
    "        ## Printing out :\n",
    "        print(\"n=%d : %6.3f < H64-up=%6.3f, H16-adapt=%6.3f < %6.3f (in %.3fs, max depth %d), error=%6.3f%%\" % \n",
    "              (i, math.log(i)+.5+.5/n, H64, H16_here/exp_bias, math.log(i)+1,\n",
    "               (time.perf_counter()-start_time), depth_max,\n",
    "              100*(H64 - f64(H16_here/exp_bias))/H64 ))\n",
    "        ## Recording the current values in the Hns_inf data frame\n",
    "        Hns_inf = Hns_inf.append({\"n\" : i,\n",
    "                                  \"H64-up\" : H64,\n",
    "                                  \"H16-adapt\" : H16_here/exp_bias,\n",
    "                                  \"H16-depth-max\" :  depth_max,\n",
    "                                  \"time\" : (time.perf_counter()-start_time)}, ignore_index=True)"
   ]
  },
  {
   "cell_type": "markdown",
   "metadata": {},
   "source": [
    "Since the results are taking time to compute it is worth saving the python object as such to be able to use it later."
   ]
  },
  {
   "cell_type": "code",
   "execution_count": null,
   "metadata": {
    "collapsed": true
   },
   "outputs": [],
   "source": [
    "print(Hns_inf)\n",
    "import pickle\n",
    "## Once used the following line is commented out to reduce the risk of overwritting the file\n",
    "## created initially.\n",
    "##Hns_inf.to_pickle(\"Hns_inf.pickle\")"
   ]
  },
  {
   "cell_type": "markdown",
   "metadata": {},
   "source": [
    "From now on, as the results are saved/serialised to the «Hns_inf.pickle» file we can get those back directly through a call to the «read_pickle» :"
   ]
  },
  {
   "cell_type": "code",
   "execution_count": null,
   "metadata": {
    "collapsed": true
   },
   "outputs": [],
   "source": [
    "import pandas\n",
    "Hns_read = pandas.read_pickle(\"Hns_inf.pickle\")\n",
    "print(Hns_read)"
   ]
  },
  {
   "cell_type": "markdown",
   "metadata": {},
   "source": [
    "## Using the power of numpy\n",
    "\n",
    "A _last_ solution is to delegate the complete computation (summation) to numpy specialised functions"
   ]
  },
  {
   "cell_type": "code",
   "execution_count": null,
   "metadata": {
    "collapsed": true
   },
   "outputs": [],
   "source": [
    "import math\n",
    "import numpy\n",
    "import time ## for function timing support\n",
    "\n",
    "def Hn_numpy_up(n, quiet=False) :\n",
    "    f16 = numpy.float16\n",
    "    f32 = numpy.float32\n",
    "    f64 = numpy.float64\n",
    "\n",
    "    start_time = time.perf_counter()\n",
    "\n",
    "    l16 = numpy.arange(1, n, dtype='float16')\n",
    "    inv16 = numpy.reciprocal(l16) ## Computing the 1/i, called «reciprocal» in computer language.\n",
    "\n",
    "    l32 = numpy.arange(1, n, dtype='float32')\n",
    "    inv32 = numpy.reciprocal(l32)\n",
    "\n",
    "    l64 = numpy.arange(1, n, dtype='float64')\n",
    "    inv64 = numpy.reciprocal(l64)\n",
    "\n",
    "    H16 = numpy.add.reduce(inv16)\n",
    "    H32 = numpy.add.reduce(inv32)\n",
    "    H64 = numpy.add.reduce(inv64)\n",
    "\n",
    "    if not quiet :\n",
    "        print(\"n=%d : %6.3f < H64=%6.3f, H32=%6.3f, H16=%6.3f < %6.3f (in %.3fs)\" %\n",
    "              (n, math.log(n)+.5+.5/n, H64, H32, H16, math.log(n)+1, (time.perf_counter()-start_time)))\n",
    "    return(H64, H32, H16, (time.perf_counter()-start_time))\n",
    "\n",
    "Hn_numpy_up(500000)"
   ]
  },
  {
   "cell_type": "markdown",
   "metadata": {},
   "source": [
    "Obviously this gives a bit better results in term of quality of the result than the naive summation but is far from perfect. Though the timing of the sum is much better than what we got by performing a naive summation (*Hn_simple_up*). Indeed the computation is between 20x and 50x faster using the numpy summation/reduction function.\n",
    "\n",
    "To enhance the precision of the result one can, again, try to arrange the values in a better order for the summation by putting the values in ascending order in the collection that will be reduced :"
   ]
  },
  {
   "cell_type": "code",
   "execution_count": null,
   "metadata": {
    "collapsed": true
   },
   "outputs": [],
   "source": [
    "import math\n",
    "import numpy\n",
    "import time ## for function timing support\n",
    "\n",
    "def Hn_numpy_down(n, quiet=False) :\n",
    "    f16 = numpy.float16\n",
    "    f32 = numpy.float32\n",
    "    f64 = numpy.float64\n",
    "\n",
    "    start_time = time.perf_counter()\n",
    "\n",
    "    l16 = numpy.arange(1, n, dtype='float16')\n",
    "    inv16 = numpy.reciprocal(l16) ## Computing the 1/i, called «reciprocal» in computer language.\n",
    "\n",
    "    l32 = numpy.arange(1, n, dtype='float32')\n",
    "    inv32 = numpy.reciprocal(l32)\n",
    "\n",
    "    l64 = numpy.arange(1, n, dtype='float64')\n",
    "    inv64 = numpy.reciprocal(l64)\n",
    "\n",
    "    H16 = numpy.add.reduce(inv16[::-1])\n",
    "    H32 = numpy.add.reduce(inv32[::-1])\n",
    "    H64 = numpy.add.reduce(inv64[::-1])\n",
    "\n",
    "    if not quiet :\n",
    "        print(\"n=%d : %6.3f < H64=%6.3f, H32=%6.3f, H16=%6.3f < %6.3f (in %.3fs)\" %\n",
    "              (n, math.log(n)+.5+.5/n, H64, H32, H16, math.log(n)+1, (time.perf_counter()-start_time)))\n",
    "    return(H64, H32, H16, (time.perf_counter()-start_time))\n",
    "\n",
    "Hn_numpy_down(500000)"
   ]
  },
  {
   "cell_type": "markdown",
   "metadata": {},
   "source": [
    "Obviously the result is strictly the same, bringing an evidence that most likely numpy is performing some type of data re-ordering before performing the summation. Hence the summation is practically performed in an order which is not directly related to the one used to submit the sum but in an order which is most the time enabling the lagorithm to provide more precise results."
   ]
  },
  {
   "cell_type": "markdown",
   "metadata": {},
   "source": [
    "### Applying an _exponent bias_ within the use of numpy summation\n",
    "\n",
    "While this is most likely useless, we can rather simply introduce a exponent bias in the summation using the numpy functions :"
   ]
  },
  {
   "cell_type": "code",
   "execution_count": null,
   "metadata": {
    "collapsed": true
   },
   "outputs": [],
   "source": [
    "import math\n",
    "import numpy\n",
    "import time ## for function timing support\n",
    "\n",
    "def Hn_numpy_bias_down(n, exp_bias = 2**8, quiet=False) :\n",
    "    f16 = numpy.float16\n",
    "    f32 = numpy.float32\n",
    "    f64 = numpy.float64\n",
    "\n",
    "    start_time = time.perf_counter()\n",
    "    rec_bias = 1.0/exp_bias\n",
    "\n",
    "    l16 = numpy.arange(1, n, dtype='float16')\n",
    "    inv16 = numpy.reciprocal(l16 * f16(rec_bias))\n",
    "\n",
    "    ### Fill in here, producing the l32, inv32, l64 and inv64 arrays.\n",
    "    \n",
    "    l32 = numpy.arange(1, n, dtype='float32')\n",
    "    inv32 = numpy.reciprocal(l32 * f32(rec_bias))\n",
    "    \n",
    "    l64 = numpy.arange(1, n, dtype='float64')\n",
    "    inv64 = numpy.reciprocal(l64 * f64(rec_bias))\n",
    "    \n",
    "    H16 = f16(rec_bias) * numpy.add.reduce(inv16[::-1])\n",
    "    ### Fill in here, producing H32 and H64 on the same model\n",
    "    H32 = f32(rec_bias) * numpy.add.reduce(inv32[::-1])\n",
    "    H64 = f64(rec_bias) * numpy.add.reduce(inv64[::-1])\n",
    "    \n",
    "    \n",
    "    if not quiet :\n",
    "        print(\"n=%d : %6.3f < H64=%6.3f, H32=%6.3f, H16=%6.3f < %6.3f (in %.3fs)\" %\n",
    "              (n, math.log(n)+.5+.5/n, H64, H32, H16, math.log(n)+1, (time.perf_counter()-start_time)))\n",
    "    return(H64, H32, H16, (time.perf_counter()-start_time))\n",
    "\n",
    "Hn_numpy_down(500000)"
   ]
  },
  {
   "cell_type": "markdown",
   "metadata": {
    "collapsed": true
   },
   "source": [
    "Clearly, and as expected, no changes in the results. This is expected since the exponent bias only use is to reach values of _i_ so big that _1/i_ is null due to exponent limitations. This is not the case fot _n=500000_.\n",
    "\n",
    "We can still record all the results produced by these new _numpy using_ function in the data frame along with the figures collected using methods not using numpy"
   ]
  },
  {
   "cell_type": "code",
   "execution_count": null,
   "metadata": {
    "collapsed": true
   },
   "outputs": [],
   "source": [
    "x_1 = numpy.empty(shape=(Hns.shape[0],),\n",
    "                  dtype=[(\"H16-numpy-up\", \"float16\"),\n",
    "                         (\"H32-numpy-up\", \"float32\"),\n",
    "                         (\"H64-numpy-up\", \"float64\"),\n",
    "                         (\"numpy-up-time\", \"float32\")])\n",
    "x_2 = numpy.empty(shape=(Hns.shape[0],),\n",
    "                  dtype=[(\"H16-numpy-bias\", \"float16\"),\n",
    "                         (\"H32-numpy-bias\", \"float32\"),\n",
    "                         (\"H64-numpy-bias\", \"float64\"),\n",
    "                         (\"numpy-bias-time\", \"float32\")])\n",
    "\n",
    "Hns_new_1 = pandas.DataFrame(x_1)\n",
    "Hns_new_2 = pandas.DataFrame(x_2)\n",
    "\n",
    "for i in Hns.index :\n",
    "    Hns_new_1.loc[i, ::] = Hn_numpy_up(Hns[\"n\"][i], quiet=False)\n",
    "    Hns_new_2.loc[i, ::] = Hn_numpy_bias_down(Hns[\"n\"][i], quiet=False)\n",
    "\n",
    "Hns = pandas.concat([Hns, Hns_new_1, Hns_new_2], axis=1)\n",
    "print(Hns.loc[::,\n",
    "        [\"n\", \"H16-numpy-up\", \"H32-numpy-up\", \"H64-numpy-up\", \"numpy-up-time\",\n",
    "         \"H16-numpy-bias\", \"H32-numpy-bias\", \"H64-numpy-bias\", \"numpy-bias-time\"]])"
   ]
  },
  {
   "cell_type": "markdown",
   "metadata": {},
   "source": [
    "And displaying the results in a figure"
   ]
  },
  {
   "cell_type": "code",
   "execution_count": null,
   "metadata": {
    "collapsed": true
   },
   "outputs": [],
   "source": [
    "Hns.loc[::,\n",
    "        [\"n\", \"H32-up\", \"H16-down\", \"H16-up\",\n",
    "         \"H16-numpy-up\", \"H32-numpy-up\", \"H64-numpy-up\",\n",
    "         \"H16-numpy-bias\", \"H32-numpy-bias\", \"H64-numpy-bias\",\n",
    "         \"H64-down\"]\n",
    "       ].plot(\"n\", logx=True, figsize=(13, 9))"
   ]
  },
  {
   "cell_type": "code",
   "execution_count": null,
   "metadata": {
    "collapsed": true
   },
   "outputs": [],
   "source": []
  }
 ],
 "metadata": {
  "kernelspec": {
   "display_name": "Python 3",
   "language": "python",
   "name": "python3"
  },
  "language_info": {
   "codemirror_mode": {
    "name": "ipython",
    "version": 3
   },
   "file_extension": ".py",
   "mimetype": "text/x-python",
   "name": "python",
   "nbconvert_exporter": "python",
   "pygments_lexer": "ipython3",
   "version": "3.6.3"
  }
 },
 "nbformat": 4,
 "nbformat_minor": 2
}
